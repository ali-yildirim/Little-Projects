{
 "cells": [
  {
   "cell_type": "code",
   "execution_count": 2,
   "id": "7d95e589",
   "metadata": {},
   "outputs": [],
   "source": [
    "import numpy as np"
   ]
  },
  {
   "cell_type": "markdown",
   "id": "5db78c90",
   "metadata": {},
   "source": [
    "## Task 1"
   ]
  },
  {
   "cell_type": "code",
   "execution_count": 3,
   "id": "c23a225c",
   "metadata": {},
   "outputs": [],
   "source": [
    "def analytic_solution(P):\n",
    "     \n",
    "    # Find the eigenvalues and the eigenvalues   \n",
    "    eigenvalues, eigenvectors = np.linalg.eig(P.T)\n",
    "    # Select the eigenvectors that correspons to the egienvalue = 1\n",
    "    eigenvectors = [-eigenvectors[i][0] for i in range(len(eigenvectors))]\n",
    "    # return the normalized and real part of the vectors (all imaginary parts are zero anyway)\n",
    "    result = [(i/sum(eigenvectors)).real for i in eigenvectors]\n",
    "    return result"
   ]
  },
  {
   "cell_type": "code",
   "execution_count": 4,
   "id": "ce0a3a54",
   "metadata": {},
   "outputs": [],
   "source": [
    "def simulation(P, T):\n",
    "    \n",
    "    # number of states\n",
    "    n = len(P)\n",
    "    # list for the realization count of the states\n",
    "    state_count = [0 for _ in range(n)]\n",
    "    # Cumulative probability matrix\n",
    "    cumulative_prob_matrix = np.cumsum(P, axis=1)\n",
    "    # Start with a random initial state\n",
    "    current_state = np.random.randint(1, n)\n",
    "    \n",
    "    for i in range(T):\n",
    "        # Generate a random number 𝑟 in [0,1)\n",
    "        r = np.random.random()\n",
    "        next_state = np.searchsorted(cumulative_prob_matrix[current_state], r)\n",
    "        # Count the occurances of the state\n",
    "        state_count[next_state] += 1\n",
    "        # Update the current state\n",
    "        current_state = next_state\n",
    "    # return the steady-state probabilities\n",
    "    result = [i/sum(state_count) for i in state_count]\n",
    "    return result"
   ]
  },
  {
   "cell_type": "code",
   "execution_count": 5,
   "id": "31384216",
   "metadata": {},
   "outputs": [],
   "source": [
    "def matrix_multiplication(P, epsilon):\n",
    "    \n",
    "    # Start with iteration 2, since first iteration is trivial.\n",
    "    t = 1\n",
    "    stop = 0\n",
    "    count = 0\n",
    "    \n",
    "    while stop != 1: \n",
    "        \n",
    "        # Increase the number of the iteration by 1 at each iteration\n",
    "        t += 1\n",
    "        # Find the A = P^(2^t-2) matrix\n",
    "        A = np.linalg.matrix_power(P, 2**(t-2))\n",
    "        # Multiply A by itself to find P^(2^t-1)\n",
    "        P_power = A @ A\n",
    "        \n",
    "        # Difference between the Pij and πj is kept in a list\n",
    "        difference_list = []\n",
    "        for i in range(len(P)):\n",
    "                difference_list.append(np.absolute(P_power[0][i] - A[0][i]))\n",
    "        \n",
    "        for i in difference_list:\n",
    "            if i < epsilon:\n",
    "                count += 1\n",
    "        if count == len(P):\n",
    "            # If the difference < epsilon satisfied for every entry, then stop\n",
    "            stop = 1\n",
    "        else:\n",
    "            # If not, then reset the count and start over\n",
    "            count = 0\n",
    "    \n",
    "    \n",
    "    result = [i for i in P_power[0]]\n",
    "    return result"
   ]
  },
  {
   "cell_type": "markdown",
   "id": "a64a4e57",
   "metadata": {},
   "source": [
    "## Task 2"
   ]
  },
  {
   "cell_type": "markdown",
   "id": "a3d36977",
   "metadata": {},
   "source": [
    "### Dataset 1"
   ]
  },
  {
   "cell_type": "code",
   "execution_count": 6,
   "id": "c2dd2424",
   "metadata": {},
   "outputs": [],
   "source": [
    "P10 = np.loadtxt(\"path10\")\n",
    "T = 10**6\n",
    "epsilon = 0.000001"
   ]
  },
  {
   "cell_type": "code",
   "execution_count": 7,
   "id": "0495c1c4",
   "metadata": {},
   "outputs": [],
   "source": [
    "result10_1 = analytic_solution(P10)\n",
    "result10_2 = simulation(P10, T)\n",
    "result10_3 = matrix_multiplication(P10, epsilon)"
   ]
  },
  {
   "cell_type": "code",
   "execution_count": 8,
   "id": "c5ce7816",
   "metadata": {},
   "outputs": [
    {
     "data": {
      "text/html": [
       "<div>\n",
       "<style scoped>\n",
       "    .dataframe tbody tr th:only-of-type {\n",
       "        vertical-align: middle;\n",
       "    }\n",
       "\n",
       "    .dataframe tbody tr th {\n",
       "        vertical-align: top;\n",
       "    }\n",
       "\n",
       "    .dataframe thead th {\n",
       "        text-align: right;\n",
       "    }\n",
       "</style>\n",
       "<table border=\"1\" class=\"dataframe\">\n",
       "  <thead>\n",
       "    <tr style=\"text-align: right;\">\n",
       "      <th></th>\n",
       "      <th>1</th>\n",
       "      <th>2</th>\n",
       "      <th>3</th>\n",
       "    </tr>\n",
       "  </thead>\n",
       "  <tbody>\n",
       "    <tr>\n",
       "      <th>0</th>\n",
       "      <td>0.095687</td>\n",
       "      <td>0.095388</td>\n",
       "      <td>0.095687</td>\n",
       "    </tr>\n",
       "    <tr>\n",
       "      <th>1</th>\n",
       "      <td>0.066885</td>\n",
       "      <td>0.067053</td>\n",
       "      <td>0.066885</td>\n",
       "    </tr>\n",
       "    <tr>\n",
       "      <th>2</th>\n",
       "      <td>0.111511</td>\n",
       "      <td>0.111455</td>\n",
       "      <td>0.111511</td>\n",
       "    </tr>\n",
       "    <tr>\n",
       "      <th>3</th>\n",
       "      <td>0.084495</td>\n",
       "      <td>0.084656</td>\n",
       "      <td>0.084495</td>\n",
       "    </tr>\n",
       "    <tr>\n",
       "      <th>4</th>\n",
       "      <td>0.143999</td>\n",
       "      <td>0.144168</td>\n",
       "      <td>0.143999</td>\n",
       "    </tr>\n",
       "    <tr>\n",
       "      <th>5</th>\n",
       "      <td>0.078892</td>\n",
       "      <td>0.079047</td>\n",
       "      <td>0.078892</td>\n",
       "    </tr>\n",
       "    <tr>\n",
       "      <th>6</th>\n",
       "      <td>0.049379</td>\n",
       "      <td>0.049632</td>\n",
       "      <td>0.049379</td>\n",
       "    </tr>\n",
       "    <tr>\n",
       "      <th>7</th>\n",
       "      <td>0.098009</td>\n",
       "      <td>0.097859</td>\n",
       "      <td>0.098009</td>\n",
       "    </tr>\n",
       "    <tr>\n",
       "      <th>8</th>\n",
       "      <td>0.125908</td>\n",
       "      <td>0.125531</td>\n",
       "      <td>0.125908</td>\n",
       "    </tr>\n",
       "    <tr>\n",
       "      <th>9</th>\n",
       "      <td>0.145235</td>\n",
       "      <td>0.145211</td>\n",
       "      <td>0.145235</td>\n",
       "    </tr>\n",
       "  </tbody>\n",
       "</table>\n",
       "</div>"
      ],
      "text/plain": [
       "          1         2         3\n",
       "0  0.095687  0.095388  0.095687\n",
       "1  0.066885  0.067053  0.066885\n",
       "2  0.111511  0.111455  0.111511\n",
       "3  0.084495  0.084656  0.084495\n",
       "4  0.143999  0.144168  0.143999\n",
       "5  0.078892  0.079047  0.078892\n",
       "6  0.049379  0.049632  0.049379\n",
       "7  0.098009  0.097859  0.098009\n",
       "8  0.125908  0.125531  0.125908\n",
       "9  0.145235  0.145211  0.145235"
      ]
     },
     "execution_count": 8,
     "metadata": {},
     "output_type": "execute_result"
    }
   ],
   "source": [
    "import pandas as pd\n",
    "pd.DataFrame({'1': result10_1, '2' : result10_2, '3': result10_3})"
   ]
  },
  {
   "cell_type": "markdown",
   "id": "cab3a429",
   "metadata": {},
   "source": [
    "### Dataset 2"
   ]
  },
  {
   "cell_type": "code",
   "execution_count": 9,
   "id": "1984d7b6",
   "metadata": {},
   "outputs": [],
   "source": [
    "P100 = np.loadtxt(\"path100\")\n",
    "T = 10**6\n",
    "epsilon = 0.000001"
   ]
  },
  {
   "cell_type": "code",
   "execution_count": 10,
   "id": "4ad63bac",
   "metadata": {},
   "outputs": [],
   "source": [
    "result100_1 = analytic_solution(P100)\n",
    "result100_2 = simulation(P100, T)\n",
    "result100_3 = matrix_multiplication(P100, epsilon)"
   ]
  },
  {
   "cell_type": "code",
   "execution_count": 11,
   "id": "82432dd8",
   "metadata": {},
   "outputs": [
    {
     "data": {
      "text/html": [
       "<div>\n",
       "<style scoped>\n",
       "    .dataframe tbody tr th:only-of-type {\n",
       "        vertical-align: middle;\n",
       "    }\n",
       "\n",
       "    .dataframe tbody tr th {\n",
       "        vertical-align: top;\n",
       "    }\n",
       "\n",
       "    .dataframe thead th {\n",
       "        text-align: right;\n",
       "    }\n",
       "</style>\n",
       "<table border=\"1\" class=\"dataframe\">\n",
       "  <thead>\n",
       "    <tr style=\"text-align: right;\">\n",
       "      <th></th>\n",
       "      <th>1</th>\n",
       "      <th>2</th>\n",
       "      <th>3</th>\n",
       "    </tr>\n",
       "  </thead>\n",
       "  <tbody>\n",
       "    <tr>\n",
       "      <th>0</th>\n",
       "      <td>0.010674</td>\n",
       "      <td>0.010755</td>\n",
       "      <td>0.010674</td>\n",
       "    </tr>\n",
       "    <tr>\n",
       "      <th>1</th>\n",
       "      <td>0.010939</td>\n",
       "      <td>0.011065</td>\n",
       "      <td>0.010939</td>\n",
       "    </tr>\n",
       "    <tr>\n",
       "      <th>2</th>\n",
       "      <td>0.009658</td>\n",
       "      <td>0.009631</td>\n",
       "      <td>0.009658</td>\n",
       "    </tr>\n",
       "    <tr>\n",
       "      <th>3</th>\n",
       "      <td>0.010672</td>\n",
       "      <td>0.010563</td>\n",
       "      <td>0.010672</td>\n",
       "    </tr>\n",
       "    <tr>\n",
       "      <th>4</th>\n",
       "      <td>0.010432</td>\n",
       "      <td>0.010336</td>\n",
       "      <td>0.010432</td>\n",
       "    </tr>\n",
       "    <tr>\n",
       "      <th>...</th>\n",
       "      <td>...</td>\n",
       "      <td>...</td>\n",
       "      <td>...</td>\n",
       "    </tr>\n",
       "    <tr>\n",
       "      <th>95</th>\n",
       "      <td>0.009058</td>\n",
       "      <td>0.009067</td>\n",
       "      <td>0.009058</td>\n",
       "    </tr>\n",
       "    <tr>\n",
       "      <th>96</th>\n",
       "      <td>0.009664</td>\n",
       "      <td>0.009601</td>\n",
       "      <td>0.009664</td>\n",
       "    </tr>\n",
       "    <tr>\n",
       "      <th>97</th>\n",
       "      <td>0.008846</td>\n",
       "      <td>0.008858</td>\n",
       "      <td>0.008846</td>\n",
       "    </tr>\n",
       "    <tr>\n",
       "      <th>98</th>\n",
       "      <td>0.009916</td>\n",
       "      <td>0.009821</td>\n",
       "      <td>0.009916</td>\n",
       "    </tr>\n",
       "    <tr>\n",
       "      <th>99</th>\n",
       "      <td>0.010092</td>\n",
       "      <td>0.009893</td>\n",
       "      <td>0.010092</td>\n",
       "    </tr>\n",
       "  </tbody>\n",
       "</table>\n",
       "<p>100 rows × 3 columns</p>\n",
       "</div>"
      ],
      "text/plain": [
       "           1         2         3\n",
       "0   0.010674  0.010755  0.010674\n",
       "1   0.010939  0.011065  0.010939\n",
       "2   0.009658  0.009631  0.009658\n",
       "3   0.010672  0.010563  0.010672\n",
       "4   0.010432  0.010336  0.010432\n",
       "..       ...       ...       ...\n",
       "95  0.009058  0.009067  0.009058\n",
       "96  0.009664  0.009601  0.009664\n",
       "97  0.008846  0.008858  0.008846\n",
       "98  0.009916  0.009821  0.009916\n",
       "99  0.010092  0.009893  0.010092\n",
       "\n",
       "[100 rows x 3 columns]"
      ]
     },
     "execution_count": 11,
     "metadata": {},
     "output_type": "execute_result"
    }
   ],
   "source": [
    "pd.DataFrame({'1': result100_1, '2' : result100_2, '3': result100_3})"
   ]
  },
  {
   "cell_type": "markdown",
   "id": "54e3d154",
   "metadata": {},
   "source": [
    "### Dataset 3 "
   ]
  },
  {
   "cell_type": "code",
   "execution_count": 12,
   "id": "76ecf7e5",
   "metadata": {},
   "outputs": [],
   "source": [
    "P1000 = np.loadtxt(\"path1000\")\n",
    "T = 10**6\n",
    "epsilon = 0.000001"
   ]
  },
  {
   "cell_type": "code",
   "execution_count": 13,
   "id": "81c9fdd3",
   "metadata": {},
   "outputs": [],
   "source": [
    "result1000_1 = analytic_solution(P1000)\n",
    "result1000_2 = simulation(P1000, T)\n",
    "result1000_3 = matrix_multiplication(P1000, epsilon)"
   ]
  },
  {
   "cell_type": "code",
   "execution_count": 14,
   "id": "02916ffb",
   "metadata": {},
   "outputs": [
    {
     "data": {
      "text/html": [
       "<div>\n",
       "<style scoped>\n",
       "    .dataframe tbody tr th:only-of-type {\n",
       "        vertical-align: middle;\n",
       "    }\n",
       "\n",
       "    .dataframe tbody tr th {\n",
       "        vertical-align: top;\n",
       "    }\n",
       "\n",
       "    .dataframe thead th {\n",
       "        text-align: right;\n",
       "    }\n",
       "</style>\n",
       "<table border=\"1\" class=\"dataframe\">\n",
       "  <thead>\n",
       "    <tr style=\"text-align: right;\">\n",
       "      <th></th>\n",
       "      <th>1</th>\n",
       "      <th>2</th>\n",
       "      <th>3</th>\n",
       "    </tr>\n",
       "  </thead>\n",
       "  <tbody>\n",
       "    <tr>\n",
       "      <th>0</th>\n",
       "      <td>0.000973</td>\n",
       "      <td>0.001023</td>\n",
       "      <td>0.000973</td>\n",
       "    </tr>\n",
       "    <tr>\n",
       "      <th>1</th>\n",
       "      <td>0.000977</td>\n",
       "      <td>0.001024</td>\n",
       "      <td>0.000977</td>\n",
       "    </tr>\n",
       "    <tr>\n",
       "      <th>2</th>\n",
       "      <td>0.001022</td>\n",
       "      <td>0.000978</td>\n",
       "      <td>0.001022</td>\n",
       "    </tr>\n",
       "    <tr>\n",
       "      <th>3</th>\n",
       "      <td>0.000974</td>\n",
       "      <td>0.001023</td>\n",
       "      <td>0.000974</td>\n",
       "    </tr>\n",
       "    <tr>\n",
       "      <th>4</th>\n",
       "      <td>0.000988</td>\n",
       "      <td>0.000955</td>\n",
       "      <td>0.000988</td>\n",
       "    </tr>\n",
       "    <tr>\n",
       "      <th>...</th>\n",
       "      <td>...</td>\n",
       "      <td>...</td>\n",
       "      <td>...</td>\n",
       "    </tr>\n",
       "    <tr>\n",
       "      <th>995</th>\n",
       "      <td>0.000968</td>\n",
       "      <td>0.000950</td>\n",
       "      <td>0.000968</td>\n",
       "    </tr>\n",
       "    <tr>\n",
       "      <th>996</th>\n",
       "      <td>0.001039</td>\n",
       "      <td>0.001057</td>\n",
       "      <td>0.001039</td>\n",
       "    </tr>\n",
       "    <tr>\n",
       "      <th>997</th>\n",
       "      <td>0.001007</td>\n",
       "      <td>0.000972</td>\n",
       "      <td>0.001007</td>\n",
       "    </tr>\n",
       "    <tr>\n",
       "      <th>998</th>\n",
       "      <td>0.001062</td>\n",
       "      <td>0.001089</td>\n",
       "      <td>0.001062</td>\n",
       "    </tr>\n",
       "    <tr>\n",
       "      <th>999</th>\n",
       "      <td>0.000969</td>\n",
       "      <td>0.000971</td>\n",
       "      <td>0.000969</td>\n",
       "    </tr>\n",
       "  </tbody>\n",
       "</table>\n",
       "<p>1000 rows × 3 columns</p>\n",
       "</div>"
      ],
      "text/plain": [
       "            1         2         3\n",
       "0    0.000973  0.001023  0.000973\n",
       "1    0.000977  0.001024  0.000977\n",
       "2    0.001022  0.000978  0.001022\n",
       "3    0.000974  0.001023  0.000974\n",
       "4    0.000988  0.000955  0.000988\n",
       "..        ...       ...       ...\n",
       "995  0.000968  0.000950  0.000968\n",
       "996  0.001039  0.001057  0.001039\n",
       "997  0.001007  0.000972  0.001007\n",
       "998  0.001062  0.001089  0.001062\n",
       "999  0.000969  0.000971  0.000969\n",
       "\n",
       "[1000 rows x 3 columns]"
      ]
     },
     "execution_count": 14,
     "metadata": {},
     "output_type": "execute_result"
    }
   ],
   "source": [
    "pd.DataFrame({'1': result1000_1, '2' : result1000_2, '3': result1000_3})"
   ]
  },
  {
   "cell_type": "markdown",
   "id": "cf47cdfc",
   "metadata": {},
   "source": [
    "## Task 3"
   ]
  },
  {
   "cell_type": "code",
   "execution_count": 15,
   "id": "6b164d8f",
   "metadata": {},
   "outputs": [],
   "source": [
    "# Mean Square Error function\n",
    "\n",
    "def MSE(set1, set2):\n",
    "    \n",
    "    squared_error = sum([(set1[i] - set2[i])**2 for i in range(len(set1))])\n",
    "    mse = squared_error / len(set1)\n",
    "    return mse"
   ]
  },
  {
   "cell_type": "code",
   "execution_count": 16,
   "id": "74fd5319",
   "metadata": {},
   "outputs": [],
   "source": [
    "MSE10_2 = MSE(result10_1, result10_2)\n",
    "MSE10_3 = MSE(result10_1, result10_3)\n",
    "\n",
    "MSE100_2 = MSE(result100_1, result100_2)\n",
    "MSE100_3 = MSE(result100_1, result100_3)\n",
    "\n",
    "MSE1000_2 = MSE(result1000_1, result1000_2)\n",
    "MSE1000_3 = MSE(result1000_1, result1000_3)"
   ]
  },
  {
   "cell_type": "code",
   "execution_count": 17,
   "id": "6e9fb589",
   "metadata": {},
   "outputs": [
    {
     "data": {
      "text/plain": [
       "[4.286147181355614e-08,\n",
       " 2.373708656457268e-33,\n",
       " 9.53812676202192e-09,\n",
       " 5.0546633243550626e-34,\n",
       " 9.50408501235356e-10,\n",
       " 9.599679822176638e-28]"
      ]
     },
     "execution_count": 17,
     "metadata": {},
     "output_type": "execute_result"
    }
   ],
   "source": [
    "a = [MSE10_2, MSE10_3, MSE100_2, MSE100_3, MSE1000_2, MSE1000_3]\n",
    "a"
   ]
  },
  {
   "cell_type": "markdown",
   "id": "e0440a51",
   "metadata": {},
   "source": [
    "The table is as follows. The formula to record the runtimes can be found at the end of the notebook."
   ]
  },
  {
   "cell_type": "markdown",
   "id": "f7445373",
   "metadata": {},
   "source": [
    "<table border=\"1\">\n",
    "  <tr>\n",
    "    <th rowspan=\"2\">Method</th>\n",
    "    <th colspan=\"2\" style=\"text-align: center;\">Dataset 1</th>\n",
    "    <th colspan=\"2\" style=\"text-align: center;\">Dataset 2</th>\n",
    "    <th colspan=\"2\" style=\"text-align: center;\">Dataset 3</th>\n",
    "  </tr>\n",
    "  <tr>\n",
    "    <th style=\"text-align: center;\">MSE</th>\n",
    "    <th style=\"text-align: center;\">Runtime (seconds)</th>\n",
    "    <th style=\"text-align: center;\">MSE</th>\n",
    "    <th style=\"text-align: center;\">Runtime (seconds)</th>\n",
    "    <th style=\"text-align: center;\">MSE</th>\n",
    "    <th style=\"text-align: center;\">Runtime (seconds)</th>\n",
    "  </tr>\n",
    "  <tr>\n",
    "    <td style=\"text-align: center;\">Method 1</td>\n",
    "    <td style=\"text-align: center;\">-</td>\n",
    "    <td style=\"text-align: center;\">0.000254</td>\n",
    "    <td style=\"text-align: center;\">-</td>\n",
    "    <td style=\"text-align: center;\">0.018841</td>\n",
    "    <td style=\"text-align: center;\">-</td>\n",
    "    <td style=\"text-align: center;\">2.383093</td>\n",
    "  </tr>\n",
    "  <tr>\n",
    "    <td style=\"text-align: center;\">Method 2</td>\n",
    "    <td style=\"text-align: center;\">1.5787780255064233e-07</td>\n",
    "    <td style=\"text-align: center;\">2.944921</td>\n",
    "    <td style=\"text-align: center;\">7.572345761625216e-09</td>\n",
    "    <td style=\"text-align: center;\">3.077945</td>\n",
    "    <td style=\"text-align: center;\">9.75464902443305e-10</td>\n",
    "    <td style=\"text-align: center;\">3.485565</td>\n",
    "  </tr>\n",
    "  <tr>\n",
    "    <td style=\"text-align: center;\">Method 3</td>\n",
    "    <td style=\"text-align: center;\">2.373708656457268e-33</td>\n",
    "    <td style=\"text-align: center;\"> 0.000137</td>\n",
    "    <td style=\"text-align: center;\">5.0546633243550626e-34</td>\n",
    "    <td style=\"text-align: center;\">0.003989</td>\n",
    "    <td style=\"text-align: center;\">9.599679822176638e-28</td>\n",
    "    <td style=\"text-align: center;\">0.448079</td>\n",
    "  </tr>\n",
    "</table>\n"
   ]
  },
  {
   "cell_type": "markdown",
   "id": "b479ce30",
   "metadata": {},
   "source": [
    "## Task 4"
   ]
  },
  {
   "cell_type": "markdown",
   "id": "77f5cf02",
   "metadata": {},
   "source": [
    "The results can be found in the table above. Let's start with the runtime. As expected, the runtime increases as the number of the state increases, i.e. as the dimension of the transition matrix increases. Also, we can rank the methods from most time consuming to the least as follows: Method 2 > Method 1 > Method 3. \n",
    "\n",
    "Between the method 2 and 3, the latter is more reliable, namely method 3. When looked at the mean squared errors, it is obvious that the MSE is far greater for Method 2. Method 2 simulates the result using one-million steps. It can only approximate the result. For a more accurate approximation, the number of steps can be increased. \n",
    "\n",
    "In method 3, the number of iterations becomes smaller as we go from dataset 1 to 3. This can be due to the fact that the entries are becoming smaller as well. Therefore, the difference goes to epsilon very easily. The count of the iterations respectively is 6, 5 and 4."
   ]
  },
  {
   "cell_type": "markdown",
   "id": "19beea31",
   "metadata": {},
   "source": [
    "## Task 5"
   ]
  },
  {
   "cell_type": "code",
   "execution_count": 25,
   "id": "438666f6",
   "metadata": {},
   "outputs": [],
   "source": [
    "# Make the first state absorbing for the dataset 1\n",
    "\n",
    "P_abs = np.loadtxt(\"Markov Chain Dataset/student_id_2018402021/HW2_2018402021_10.txt\")\n",
    "\n",
    "for i in range(len(P_abs)):\n",
    "    \n",
    "    if i != 0:\n",
    "        P_abs[0][i] = 0\n",
    "    else:\n",
    "        P_abs[0][i] = 1"
   ]
  },
  {
   "cell_type": "code",
   "execution_count": 26,
   "id": "bfb8f7d9",
   "metadata": {},
   "outputs": [
    {
     "data": {
      "text/plain": [
       "array([[1.      , 0.      , 0.      , 0.      , 0.      , 0.      ,\n",
       "        0.      , 0.      , 0.      , 0.      ],\n",
       "       [0.023798, 0.024766, 0.038094, 0.019809, 0.041271, 0.169825,\n",
       "        0.075336, 0.248166, 0.00227 , 0.356665],\n",
       "       [0.060644, 0.032877, 0.134373, 0.142838, 0.142219, 0.015933,\n",
       "        0.021326, 0.006111, 0.200105, 0.243574],\n",
       "       [0.154388, 0.017186, 0.079644, 0.092527, 0.061591, 0.032734,\n",
       "        0.0353  , 0.207358, 0.058977, 0.260295],\n",
       "       [0.004562, 0.189647, 0.014211, 0.056196, 0.22434 , 0.024223,\n",
       "        0.064229, 0.082235, 0.257278, 0.083079],\n",
       "       [0.079778, 0.018543, 0.34212 , 0.161995, 0.097638, 0.02926 ,\n",
       "        0.030958, 0.060095, 0.074001, 0.105612],\n",
       "       [0.057162, 0.098194, 0.029669, 0.159792, 0.243542, 0.187441,\n",
       "        0.094663, 0.001931, 0.071037, 0.056569],\n",
       "       [0.069748, 0.069504, 0.104494, 0.187453, 0.112556, 0.043784,\n",
       "        0.077104, 0.04493 , 0.219061, 0.071366],\n",
       "       [0.366395, 0.036849, 0.047978, 0.060985, 0.186019, 0.0239  ,\n",
       "        0.015285, 0.061962, 0.146776, 0.053851],\n",
       "       [0.069296, 0.063422, 0.059965, 0.025006, 0.039016, 0.236504,\n",
       "        0.080452, 0.230293, 0.080827, 0.115219]])"
      ]
     },
     "execution_count": 26,
     "metadata": {},
     "output_type": "execute_result"
    }
   ],
   "source": [
    "P_abs"
   ]
  },
  {
   "cell_type": "code",
   "execution_count": 27,
   "id": "22a1c90d",
   "metadata": {},
   "outputs": [
    {
     "data": {
      "text/plain": [
       "[1.0, -0.0, -0.0, -0.0, -0.0, -0.0, -0.0, -0.0, -0.0, -0.0]"
      ]
     },
     "execution_count": 27,
     "metadata": {},
     "output_type": "execute_result"
    }
   ],
   "source": [
    "analytic_solution(P_abs)"
   ]
  },
  {
   "cell_type": "code",
   "execution_count": 32,
   "id": "3d40c3cc",
   "metadata": {},
   "outputs": [
    {
     "data": {
      "text/plain": [
       "[0.99999, 1e-06, 0.0, 0.0, 3e-06, 1e-06, 0.0, 1e-06, 1e-06, 3e-06]"
      ]
     },
     "execution_count": 32,
     "metadata": {},
     "output_type": "execute_result"
    }
   ],
   "source": [
    "simulation(P_abs, 10**6)"
   ]
  },
  {
   "cell_type": "code",
   "execution_count": 33,
   "id": "afea8b00",
   "metadata": {},
   "outputs": [
    {
     "data": {
      "text/plain": [
       "[1.0, 0.0, 0.0, 0.0, 0.0, 0.0, 0.0, 0.0, 0.0, 0.0]"
      ]
     },
     "execution_count": 33,
     "metadata": {},
     "output_type": "execute_result"
    }
   ],
   "source": [
    "matrix_multiplication(P_abs, 0.000001)"
   ]
  },
  {
   "cell_type": "markdown",
   "id": "d07618b0",
   "metadata": {},
   "source": [
    "The result for the new dataset is as expected. Since the first state has become absorbing, when we go to the first state, we are trapped there. As n goes to infinity, the P matrix becomes all ones for the first state and 0s for the rest."
   ]
  },
  {
   "cell_type": "markdown",
   "id": "153e2f09",
   "metadata": {},
   "source": [
    "### Task 3 Time Formula"
   ]
  },
  {
   "cell_type": "code",
   "execution_count": 23,
   "id": "034846c6",
   "metadata": {},
   "outputs": [],
   "source": [
    "# total_time_1 = 0\n",
    "# total_time_2 = 0\n",
    "# total_time_3 = 0\n",
    "\n",
    "# for _ in range(1000):\n",
    "#     start_time = time.time()\n",
    "#     result100_1 = analytic_solution(P1000)\n",
    "#     end_time = time.time()\n",
    "#     total_time_1 += (end_time - start_time)\n",
    "\n",
    "#     start_time = time.time()\n",
    "#     result100_2 = simulation(P1000, T)\n",
    "#     end_time = time.time()\n",
    "#     total_time_2 += (end_time - start_time)\n",
    "\n",
    "#     start_time = time.time()\n",
    "#     result100_3 = matrix_multiplication(P1000, epsilon)\n",
    "#     end_time = time.time()\n",
    "#     total_time_3 += (end_time - start_time)\n",
    "\n",
    "# average_time_1 = total_time_1 / 1000\n",
    "# average_time_2 = total_time_2 / 1000\n",
    "# average_time_3 = total_time_3 / 1000"
   ]
  },
  {
   "cell_type": "code",
   "execution_count": null,
   "id": "12c8a8dd",
   "metadata": {},
   "outputs": [],
   "source": []
  }
 ],
 "metadata": {
  "kernelspec": {
   "display_name": "Python 3 (ipykernel)",
   "language": "python",
   "name": "python3"
  },
  "language_info": {
   "codemirror_mode": {
    "name": "ipython",
    "version": 3
   },
   "file_extension": ".py",
   "mimetype": "text/x-python",
   "name": "python",
   "nbconvert_exporter": "python",
   "pygments_lexer": "ipython3",
   "version": "3.11.4"
  }
 },
 "nbformat": 4,
 "nbformat_minor": 5
}
