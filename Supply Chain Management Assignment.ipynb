{
  "cells": [
    {
      "cell_type": "markdown",
      "id": "ejd44AiETTGK",
      "metadata": {
        "id": "ejd44AiETTGK"
      },
      "source": [
        "\n",
        "$$\n",
        "Sets\n",
        "$$\n",
        "\n",
        "$$\n",
        "t = \\{1, 2, 3, 4, \\ldots, 12\\}\n",
        "$$\n"
      ]
    },
    {
      "cell_type": "markdown",
      "id": "f1049073",
      "metadata": {
        "id": "f1049073"
      },
      "source": [
        "$$\n",
        "Parameters\n",
        "$$\n",
        "\n",
        "$$\n",
        "D_t: \\text{demand in month t (in tons)}\n",
        "$$\n",
        "\n",
        "$$\n",
        "c_t: \\text{inventory holding cost in month t}\n",
        "$$\n",
        "\n",
        "$$\n",
        "c_t = \\$100 \\text{ per ton}\n",
        "$$\n",
        "\n",
        "$$\n",
        "r_t: \\text{regular time labor cost per 100 employees per hour in month t}\n",
        "$$\n",
        "\n",
        "$$\n",
        "r_t = \\$10 \\times 100 = \\$1000/\\text{month}\n",
        "$$\n",
        "\n",
        "$$\n",
        "o_t: \\text{overtime labor cost per 100 employees per hour in month } t\n",
        "$$\n",
        "\n",
        "$$\n",
        "o_t = \\$15 × 100= \\$1500/\\text{month}\n",
        "$$\n",
        "\n",
        "$$\n",
        "p_t: \\text{cost of production in month } t\n",
        "$$\n",
        "\n",
        "$$\n",
        "p_t = \\$1000 \\text{ per ton}\n",
        "$$"
      ]
    },
    {
      "cell_type": "markdown",
      "id": "e4ce31b1",
      "metadata": {
        "id": "e4ce31b1"
      },
      "source": [
        "$$\n",
        "Decision Variables\n",
        "$$\n",
        "\n",
        "$$\n",
        "R_t : \\text{regular hours worked in month } t\n",
        "$$\n",
        "\n",
        "\n",
        "$$\n",
        "W_t : \\text{workforce level in month } t\n",
        "$$\n",
        "\n",
        "$$\n",
        "I_t : \\text{inventory level at the end of month } t\n",
        "$$\n",
        "\n",
        "$$\n",
        "P_t : \\text{production level in month } t\n",
        "$$\n",
        "\n",
        "$$\n",
        "O_t : \\text{number of hours worked in overtime in month t}\n",
        "$$\n"
      ]
    },
    {
      "cell_type": "markdown",
      "id": "e881ef52",
      "metadata": {
        "id": "e881ef52"
      },
      "source": [
        "$$\n",
        " Model\n",
        "$$\n",
        "\n",
        "\n",
        "$$\n",
        "\\min \\sum c_t \\cdot I_t + r_t \\cdot R_t + o_t \\cdot O_t + p_t \\cdot P_t\n",
        "$$\n",
        "\n",
        "$$\n",
        "s.t.\n",
        "$$\n",
        "\n",
        "\n",
        "$$\n",
        "I_t = I_{t-1} + P_t - D_t\n",
        "$$\n",
        "\n",
        "$$\n",
        "P_t = R_t + O_t\n",
        "$$\n",
        "\n",
        "$$\n",
        "I_0 = 150\n",
        "$$\n",
        "\n",
        "$$\n",
        "I_{12} = 150\n",
        "$$\n",
        "\n",
        "$$\n",
        "I_t \\geq 100 \\quad \\text{for} \\quad t \\in \\{1, 2, 3, \\dots, 11\\}\n",
        "$$\n",
        "\n",
        "$$\n",
        "R_t \\leq 320\n",
        "$$\n",
        "\n",
        "$$\n",
        "O_t \\leq 40\n",
        "$$\n",
        "\n",
        "\n",
        "$$\n",
        "R_t, I_t, P_t, O_t \\geq 0\n",
        "$$"
      ]
    },
    {
      "cell_type": "code",
      "execution_count": null,
      "id": "kroeasEkKVyO",
      "metadata": {
        "colab": {
          "base_uri": "https://localhost:8080/"
        },
        "id": "kroeasEkKVyO",
        "outputId": "7567188e-8358-48a3-8659-3f52df8263b3"
      },
      "outputs": [
        {
          "output_type": "stream",
          "name": "stdout",
          "text": [
            "Requirement already satisfied: pulp in /usr/local/lib/python3.10/dist-packages (2.8.0)\n"
          ]
        }
      ],
      "source": [
        "!pip install pulp"
      ]
    },
    {
      "cell_type": "code",
      "execution_count": null,
      "id": "04012264",
      "metadata": {
        "id": "04012264"
      },
      "outputs": [],
      "source": [
        "from pulp import *"
      ]
    },
    {
      "cell_type": "markdown",
      "id": "HRv-2Czjzb2K",
      "metadata": {
        "id": "HRv-2Czjzb2K"
      },
      "source": [
        "# Question 1"
      ]
    },
    {
      "cell_type": "code",
      "execution_count": null,
      "id": "627699a5",
      "metadata": {
        "id": "627699a5"
      },
      "outputs": [],
      "source": [
        "# Months\n",
        "months = [1, 2, 3, 4, 5, 6, 7, 8, 9, 10, 11, 12]\n",
        "# Months for inventory since I0 exists\n",
        "months_inventory = [0, 1, 2, 3, 4, 5, 6, 7, 8, 9, 10, 11, 12]\n",
        "\n",
        "# Dt for each month\n",
        "demand = {\n",
        "\n",
        "1 : 280,\n",
        "2 : 301,\n",
        "3 : 277,\n",
        "4 : 310,\n",
        "5 : 285,\n",
        "6 : 278,\n",
        "7 : 291,\n",
        "8 : 220,\n",
        "9 : 304,\n",
        "10 : 295,\n",
        "11 : 302,\n",
        "12 : 297\n",
        "}\n",
        "\n",
        "# rt\n",
        "regular_time_cost = 1000\n",
        "\n",
        "# ot\n",
        "overtime_time_cost = 1500\n",
        "\n",
        "# ct\n",
        "inventory_holding_cost = 100\n",
        "\n",
        "# pt\n",
        "production_cost = 1000"
      ]
    },
    {
      "cell_type": "markdown",
      "id": "5ac1fb63",
      "metadata": {
        "id": "5ac1fb63"
      },
      "source": [
        "**Problem is a minimization problem:**"
      ]
    },
    {
      "cell_type": "code",
      "execution_count": null,
      "id": "70c62f58",
      "metadata": {
        "id": "70c62f58"
      },
      "outputs": [],
      "source": [
        "model = LpProblem(\"Aggregate-Planning-Problem\", LpMinimize)"
      ]
    },
    {
      "cell_type": "markdown",
      "id": "fb54aef3",
      "metadata": {
        "id": "fb54aef3"
      },
      "source": [
        "**Decision variables are defined and greater than zero:**"
      ]
    },
    {
      "cell_type": "code",
      "execution_count": null,
      "id": "63af0923",
      "metadata": {
        "id": "63af0923"
      },
      "outputs": [],
      "source": [
        "# It\n",
        "inventory_vars = LpVariable.dicts(\"Inventory\", months_inventory, 0)\n",
        "# Pt\n",
        "production_vars = LpVariable.dicts(\"Production\", months, 0)\n",
        "# Ot\n",
        "overtime_hours = LpVariable.dicts(\"Overtime\", months, 0)\n",
        "# Rt\n",
        "regular_hours = LpVariable.dicts(\"Hours\", months, 0)\n",
        "# Wt\n",
        "workforce_vars = 100"
      ]
    },
    {
      "cell_type": "markdown",
      "id": "810b4268",
      "metadata": {
        "id": "810b4268"
      },
      "source": [
        "**Adding the objective function:**"
      ]
    },
    {
      "cell_type": "code",
      "execution_count": null,
      "id": "51b89401",
      "metadata": {
        "id": "51b89401"
      },
      "outputs": [],
      "source": [
        "Tlabor    = lpSum(regular_time_cost * regular_hours[i] for i in months) # regular hour cost each month\n",
        "Tinv      = lpSum(inventory_holding_cost * inventory_vars[i] for i in months_inventory) # inventory carry cost each month\n",
        "Tovertime = lpSum(overtime_time_cost * overtime_hours[i] for i in months) # overtime cost each month\n",
        "Tprod     = lpSum(production_cost * production_vars[i] for i in months) # production cost each month\n",
        "\n",
        "model += Tlabor + Tinv + Tovertime + Tprod"
      ]
    },
    {
      "cell_type": "markdown",
      "id": "6c916111",
      "metadata": {
        "id": "6c916111"
      },
      "source": [
        "**Adding the constraints:**"
      ]
    },
    {
      "cell_type": "markdown",
      "id": "5a32f29d",
      "metadata": {
        "id": "5a32f29d"
      },
      "source": [
        " **Inventory balance**"
      ]
    },
    {
      "cell_type": "code",
      "execution_count": null,
      "id": "10a03923",
      "metadata": {
        "id": "10a03923"
      },
      "outputs": [],
      "source": [
        "for i in months_inventory:\n",
        "\n",
        "    if i == 0:\n",
        "        model += inventory_vars[i] == 150,  f\"Inventory 0\" # Starting inventory is 150\n",
        "        model += inventory_vars[i+1] == inventory_vars[i] + production_vars[i + 1] - demand[i + 1],  f\"Inventory Balance {i}\" # Inventory Balance for January\n",
        "    elif i == 12:\n",
        "        model += inventory_vars[i] == 150,  f\"Inventory Balance {i}\" # Ending inventory is 150\n",
        "    else:\n",
        "        model += inventory_vars[i + 1] == inventory_vars[i] + production_vars[i+1] - demand[i+1], f\"Inventory Balance {i}\" # Inventory Balance for all months except January and December"
      ]
    },
    {
      "cell_type": "markdown",
      "id": "04ed8d27",
      "metadata": {
        "id": "04ed8d27"
      },
      "source": [
        "**Production Workforce Relation**\n",
        "\n",
        " Each ton of detergent requires one hour of operation of the line. For each regular hour or overtime hour worked, one ton of detergent is being produced."
      ]
    },
    {
      "cell_type": "code",
      "execution_count": null,
      "id": "d0f6782c",
      "metadata": {
        "id": "d0f6782c"
      },
      "outputs": [],
      "source": [
        "for i in months:\n",
        "\n",
        "    model += production_vars[i] == regular_hours[i] + overtime_hours[i], f\"Production Workforce Relation {i}\""
      ]
    },
    {
      "cell_type": "markdown",
      "id": "375efaf4",
      "metadata": {
        "id": "375efaf4"
      },
      "source": [
        "**Inventory Level for Intermediate Months**\n",
        "\n",
        "During intermediate months, Q&H wants at least 100 tons of inventory and\n",
        "wants to consider only plans without any stockouts.   "
      ]
    },
    {
      "cell_type": "code",
      "execution_count": null,
      "id": "08593763",
      "metadata": {
        "id": "08593763"
      },
      "outputs": [],
      "source": [
        "for i in months:\n",
        "\n",
        "    if i != 12:\n",
        "\n",
        "        model += inventory_vars[i] >= 100, f\"Intermediate Inventory Level {i}\""
      ]
    },
    {
      "cell_type": "markdown",
      "id": "0097e50b",
      "metadata": {
        "id": "0097e50b"
      },
      "source": [
        "**Work Hours**\n",
        "\n",
        "The plant works 20  days a month, two shifts a day, and eight hours a shift of regular time, which translates to a maximum of 320 hours of regular hours per month."
      ]
    },
    {
      "cell_type": "code",
      "execution_count": null,
      "id": "eaea28ec",
      "metadata": {
        "id": "eaea28ec"
      },
      "outputs": [],
      "source": [
        "for i in months:\n",
        "\n",
        "    model += regular_hours[i] <= 320, f\"Work Hours Constraint {i}\""
      ]
    },
    {
      "cell_type": "markdown",
      "id": "29a24a10",
      "metadata": {
        "id": "29a24a10"
      },
      "source": [
        "**Overtime Limit**\n",
        "\n",
        "Overtime is restricted to 20 hours per employee each month. Accounted for 2 shifts, a maximum of 40 hours of overtime hours can be attained."
      ]
    },
    {
      "cell_type": "code",
      "execution_count": null,
      "id": "851dd3e1",
      "metadata": {
        "id": "851dd3e1"
      },
      "outputs": [],
      "source": [
        "for i in months:\n",
        "\n",
        "    model += 40 >= overtime_hours[i], f\"Overtime Constraint {i}\""
      ]
    },
    {
      "cell_type": "markdown",
      "source": [
        "**Solving the problem and checking for optimality:**"
      ],
      "metadata": {
        "id": "nThMntjuUUaU"
      },
      "id": "nThMntjuUUaU"
    },
    {
      "cell_type": "code",
      "execution_count": null,
      "id": "15aa97b8",
      "metadata": {
        "colab": {
          "base_uri": "https://localhost:8080/",
          "height": 36
        },
        "id": "15aa97b8",
        "outputId": "37d9e814-b26f-4c4b-c96f-f65abc47913b"
      },
      "outputs": [
        {
          "output_type": "execute_result",
          "data": {
            "text/plain": [
              "'Optimal'"
            ],
            "application/vnd.google.colaboratory.intrinsic+json": {
              "type": "string"
            }
          },
          "metadata": {},
          "execution_count": 708
        }
      ],
      "source": [
        "# Solve the problem\n",
        "model.solve()\n",
        "LpStatus[model.status]"
      ]
    },
    {
      "cell_type": "code",
      "execution_count": null,
      "id": "9e5ed4bf",
      "metadata": {
        "colab": {
          "base_uri": "https://localhost:8080/"
        },
        "id": "9e5ed4bf",
        "outputId": "cc1ee3b0-9d0a-4763-fcf6-3d6576a93491"
      },
      "outputs": [
        {
          "output_type": "stream",
          "name": "stdout",
          "text": [
            "Optimal objective function value =  7023600.0\n"
          ]
        }
      ],
      "source": [
        "print(\"Optimal objective function value = \", value(model.objective))"
      ]
    },
    {
      "cell_type": "markdown",
      "source": [
        "**Variables and their values in the solution:**"
      ],
      "metadata": {
        "id": "5UbKC64rUfPW"
      },
      "id": "5UbKC64rUfPW"
    },
    {
      "cell_type": "code",
      "execution_count": null,
      "id": "a36c1ba5",
      "metadata": {
        "colab": {
          "base_uri": "https://localhost:8080/"
        },
        "id": "a36c1ba5",
        "outputId": "40d73c24-ed77-4b08-bf07-a13ac3513a88",
        "scrolled": false
      },
      "outputs": [
        {
          "output_type": "stream",
          "name": "stdout",
          "text": [
            "Hours_1 = 230.0\n",
            "Hours_10 = 304.0\n",
            "Hours_11 = 320.0\n",
            "Hours_12 = 320.0\n",
            "Hours_2 = 301.0\n",
            "Hours_3 = 277.0\n",
            "Hours_4 = 310.0\n",
            "Hours_5 = 285.0\n",
            "Hours_6 = 278.0\n",
            "Hours_7 = 291.0\n",
            "Hours_8 = 220.0\n",
            "Hours_9 = 304.0\n",
            "Inventory_0 = 150.0\n",
            "Inventory_1 = 100.0\n",
            "Inventory_10 = 109.0\n",
            "Inventory_11 = 127.0\n",
            "Inventory_12 = 150.0\n",
            "Inventory_2 = 100.0\n",
            "Inventory_3 = 100.0\n",
            "Inventory_4 = 100.0\n",
            "Inventory_5 = 100.0\n",
            "Inventory_6 = 100.0\n",
            "Inventory_7 = 100.0\n",
            "Inventory_8 = 100.0\n",
            "Inventory_9 = 100.0\n",
            "Overtime_1 = 0.0\n",
            "Overtime_10 = 0.0\n",
            "Overtime_11 = 0.0\n",
            "Overtime_12 = 0.0\n",
            "Overtime_2 = 0.0\n",
            "Overtime_3 = 0.0\n",
            "Overtime_4 = 0.0\n",
            "Overtime_5 = 0.0\n",
            "Overtime_6 = 0.0\n",
            "Overtime_7 = 0.0\n",
            "Overtime_8 = 0.0\n",
            "Overtime_9 = 0.0\n",
            "Production_1 = 230.0\n",
            "Production_10 = 304.0\n",
            "Production_11 = 320.0\n",
            "Production_12 = 320.0\n",
            "Production_2 = 301.0\n",
            "Production_3 = 277.0\n",
            "Production_4 = 310.0\n",
            "Production_5 = 285.0\n",
            "Production_6 = 278.0\n",
            "Production_7 = 291.0\n",
            "Production_8 = 220.0\n",
            "Production_9 = 304.0\n"
          ]
        }
      ],
      "source": [
        "for v in model.variables():\n",
        "    print(v.name, \"=\", v.varValue)"
      ]
    },
    {
      "cell_type": "markdown",
      "id": "5cdad692",
      "metadata": {
        "id": "5cdad692"
      },
      "source": [
        "# Question 2"
      ]
    },
    {
      "cell_type": "markdown",
      "id": "6610db1b",
      "metadata": {
        "id": "6610db1b"
      },
      "source": [
        "$$\n",
        " \\text{New Parameters}\n",
        "$$\n",
        "\n",
        "$$\n",
        "s_t: \\text{sales price}\n",
        "$$\n",
        "\n",
        "$$\n",
        "s_t = $2600 \\text{ per ton}\n",
        "$$\n",
        "\n",
        "$$\n",
        "\\text{New Model}\n",
        "$$\n",
        "\n",
        "$$\n",
        "\\max \\sum s_t ⋅ D_t - c_t \\cdot I_t - r_t \\cdot R_t - o_t \\cdot O_t - p_t \\cdot P_t\n",
        "$$\n",
        "\n",
        "$$\n",
        "s.t. \\text{same constraints}\n",
        "$$\n"
      ]
    },
    {
      "cell_type": "markdown",
      "source": [
        "Total sales is equal to st * Dt"
      ],
      "metadata": {
        "id": "naQxXHsLUl6h"
      },
      "id": "naQxXHsLUl6h"
    },
    {
      "cell_type": "code",
      "execution_count": null,
      "id": "a1fda546",
      "metadata": {
        "id": "a1fda546"
      },
      "outputs": [],
      "source": [
        "Tsales = lpSum(2600 * demand[i] for i in months)\n",
        "\n",
        "model2 = LpProblem(\"Aggregate-Planning-Problem\", LpMaximize)\n",
        "model2 += Tsales - Tlabor - Tinv - Tovertime - Tprod"
      ]
    },
    {
      "cell_type": "code",
      "execution_count": null,
      "id": "7df82d8a",
      "metadata": {
        "id": "7df82d8a"
      },
      "outputs": [],
      "source": [
        "for i in months_inventory:\n",
        "\n",
        "    if i == 0:\n",
        "        model2 += inventory_vars[i] == 150,  f\"Inventory Balance {i}\"\n",
        "        model2 += inventory_vars[i+1] == inventory_vars[i] + production_vars[i + 1] - demand[i + 1]\n",
        "    elif i == 12:\n",
        "        model2 += inventory_vars[i] == 150,  f\"Inventory Balance {i}\"\n",
        "    else:\n",
        "        model2 += inventory_vars[i + 1] == inventory_vars[i] + production_vars[i+1] - demand[i+1], f\"Inventory Balance {i}\"\n",
        "\n",
        "\n",
        "for i in months:\n",
        "    model2 += production_vars[i] == regular_hours[i] + overtime_hours[i], f\"Production Workforce Relation {i}\"\n",
        "\n",
        "\n",
        "for i in months:\n",
        "    if i != 12:\n",
        "        model2 += inventory_vars[i] >= 100, f\"Intermediate Inventory Level {i}\"\n",
        "\n",
        "for i in months:\n",
        "    model2 += regular_hours[i] <= 320, f\"Workforce Balance {i}\"\n",
        "\n",
        "for i in months:\n",
        "    model2 += 40 >= overtime_hours[i], f\"Overtime {i}\""
      ]
    },
    {
      "cell_type": "code",
      "execution_count": null,
      "id": "579c1e8f",
      "metadata": {
        "colab": {
          "base_uri": "https://localhost:8080/",
          "height": 36
        },
        "id": "579c1e8f",
        "outputId": "73e97649-88f0-4665-cf27-9dffd580049b"
      },
      "outputs": [
        {
          "output_type": "execute_result",
          "data": {
            "text/plain": [
              "'Optimal'"
            ],
            "application/vnd.google.colaboratory.intrinsic+json": {
              "type": "string"
            }
          },
          "metadata": {},
          "execution_count": 713
        }
      ],
      "source": [
        "# Solve the problem\n",
        "model2.solve()\n",
        "LpStatus[model2.status]"
      ]
    },
    {
      "cell_type": "code",
      "execution_count": null,
      "id": "970261a0",
      "metadata": {
        "colab": {
          "base_uri": "https://localhost:8080/"
        },
        "id": "970261a0",
        "outputId": "0cf038ac-36ff-4036-ec9d-bfc5908b660f"
      },
      "outputs": [
        {
          "output_type": "stream",
          "name": "stdout",
          "text": [
            "Optimal objective function value =  1920400.0\n"
          ]
        }
      ],
      "source": [
        "print(\"Optimal objective function value = \", value(model2.objective))"
      ]
    },
    {
      "cell_type": "code",
      "execution_count": null,
      "id": "47e9a0c4",
      "metadata": {
        "colab": {
          "base_uri": "https://localhost:8080/"
        },
        "id": "47e9a0c4",
        "outputId": "a27d8f5f-305d-45cf-d31e-d112ebd0e26d"
      },
      "outputs": [
        {
          "output_type": "stream",
          "name": "stdout",
          "text": [
            "Hours_1 = 230.0\n",
            "Hours_10 = 304.0\n",
            "Hours_11 = 320.0\n",
            "Hours_12 = 320.0\n",
            "Hours_2 = 301.0\n",
            "Hours_3 = 277.0\n",
            "Hours_4 = 310.0\n",
            "Hours_5 = 285.0\n",
            "Hours_6 = 278.0\n",
            "Hours_7 = 291.0\n",
            "Hours_8 = 220.0\n",
            "Hours_9 = 304.0\n",
            "Inventory_0 = 150.0\n",
            "Inventory_1 = 100.0\n",
            "Inventory_10 = 109.0\n",
            "Inventory_11 = 127.0\n",
            "Inventory_12 = 150.0\n",
            "Inventory_2 = 100.0\n",
            "Inventory_3 = 100.0\n",
            "Inventory_4 = 100.0\n",
            "Inventory_5 = 100.0\n",
            "Inventory_6 = 100.0\n",
            "Inventory_7 = 100.0\n",
            "Inventory_8 = 100.0\n",
            "Inventory_9 = 100.0\n",
            "Overtime_1 = 0.0\n",
            "Overtime_10 = 0.0\n",
            "Overtime_11 = 0.0\n",
            "Overtime_12 = 0.0\n",
            "Overtime_2 = 0.0\n",
            "Overtime_3 = 0.0\n",
            "Overtime_4 = 0.0\n",
            "Overtime_5 = 0.0\n",
            "Overtime_6 = 0.0\n",
            "Overtime_7 = 0.0\n",
            "Overtime_8 = 0.0\n",
            "Overtime_9 = 0.0\n",
            "Production_1 = 230.0\n",
            "Production_10 = 304.0\n",
            "Production_11 = 320.0\n",
            "Production_12 = 320.0\n",
            "Production_2 = 301.0\n",
            "Production_3 = 277.0\n",
            "Production_4 = 310.0\n",
            "Production_5 = 285.0\n",
            "Production_6 = 278.0\n",
            "Production_7 = 291.0\n",
            "Production_8 = 220.0\n",
            "Production_9 = 304.0\n"
          ]
        }
      ],
      "source": [
        "for v in model2.variables():\n",
        "    print(v.name, \"=\", v.varValue)"
      ]
    },
    {
      "cell_type": "markdown",
      "id": "b857fdd1",
      "metadata": {
        "id": "b857fdd1"
      },
      "source": [
        "# Question 3"
      ]
    },
    {
      "cell_type": "markdown",
      "id": "75bc335c",
      "metadata": {
        "id": "75bc335c"
      },
      "source": [
        "$$\n",
        "\\text{Parameter Update}\n",
        "$$\n",
        "\n",
        "$$\n",
        "s_4 = $2600 - $260 = $2340\n",
        "$$\n",
        "\n",
        "$$\n",
        "D_4 = D_4 \\times 150\\% + D_5 \\times 20\\% + D_6 \\times 20\\%\n",
        "$$\n",
        "\n",
        "$$\n",
        "D_5 = D_5 \\times 80\\%\n",
        "$$\n",
        "\n",
        "$$\n",
        "D_7 = D_7 \\times 80\\%\n",
        "$$"
      ]
    },
    {
      "cell_type": "code",
      "execution_count": null,
      "id": "d9115ba7",
      "metadata": {
        "id": "d9115ba7"
      },
      "outputs": [],
      "source": [
        "demand_q3 = {\n",
        "\n",
        "1 : 280,\n",
        "2 : 301,\n",
        "3 : 277,\n",
        "4 : 310 * 1.5 + 285 * 0.2 + 278 * 0.2,\n",
        "5 : 285 * 0.8,\n",
        "6 : 278 * 0.8,\n",
        "7 : 291,\n",
        "8 : 220,\n",
        "9 : 304,\n",
        "10 : 295,\n",
        "11 : 302,\n",
        "12 : 297\n",
        "}\n",
        "\n",
        "st_q3 = {\n",
        "\n",
        "1 : 2600,\n",
        "2 : 2600,\n",
        "3 : 2600,\n",
        "4 : 2340,\n",
        "5 : 2600,\n",
        "6 : 2600,\n",
        "7 : 2600,\n",
        "8 : 2600,\n",
        "9 : 2600,\n",
        "10 : 2600,\n",
        "11 : 2600,\n",
        "12 : 2600\n",
        "}"
      ]
    },
    {
      "cell_type": "code",
      "execution_count": null,
      "id": "67a3c55d",
      "metadata": {
        "id": "67a3c55d"
      },
      "outputs": [],
      "source": [
        "Tsales_q3 = lpSum(st_q3[i] * demand_q3[i] for i in months)\n",
        "\n",
        "model3 = LpProblem(\"Aggregate-Planning-Problem\", LpMaximize)\n",
        "model3 += Tsales_q3 - Tlabor - Tinv - Tovertime - Tprod"
      ]
    },
    {
      "cell_type": "code",
      "execution_count": null,
      "id": "e7d52bc0",
      "metadata": {
        "id": "e7d52bc0"
      },
      "outputs": [],
      "source": [
        "for i in months_inventory:\n",
        "\n",
        "    if i == 0:\n",
        "        model3 += inventory_vars[i] == 150,  f\"Inventory Balance {i}\"\n",
        "        model3 += inventory_vars[i+1] == inventory_vars[i] + production_vars[i + 1] - demand[i + 1]\n",
        "    elif i == 12:\n",
        "        model3 += inventory_vars[i] == 150,  f\"Inventory Balance {i}\"\n",
        "    else:\n",
        "        model3 += inventory_vars[i + 1] == inventory_vars[i] + production_vars[i+1] - demand_q3[i+1], f\"Inventory Balance {i}\"\n",
        "\n",
        "\n",
        "for i in months:\n",
        "\n",
        "    model3 += production_vars[i] == regular_hours[i] + overtime_hours[i], f\"Production Workforce Relation {i}\"\n",
        "\n",
        "\n",
        "for i in months:\n",
        "\n",
        "    if i != 12:\n",
        "\n",
        "        model3 += inventory_vars[i] >= 100, f\"Intermediate Inventory Level {i}\"\n",
        "\n",
        "\n",
        "for i in months:\n",
        "\n",
        "    model3 += regular_hours[i] <= 320, f\"Workforce Balance {i}\"\n",
        "\n",
        "for i in months:\n",
        "\n",
        "    model3 += 40 >= overtime_hours[i], f\"Overtime {i}\""
      ]
    },
    {
      "cell_type": "code",
      "execution_count": null,
      "id": "48f6853e",
      "metadata": {
        "colab": {
          "base_uri": "https://localhost:8080/",
          "height": 36
        },
        "id": "48f6853e",
        "outputId": "6a83f336-a84a-4fb5-93ac-8fc2a0f13f4b"
      },
      "outputs": [
        {
          "output_type": "execute_result",
          "data": {
            "text/plain": [
              "'Optimal'"
            ],
            "application/vnd.google.colaboratory.intrinsic+json": {
              "type": "string"
            }
          },
          "metadata": {},
          "execution_count": 719
        }
      ],
      "source": [
        "model3.solve()\n",
        "LpStatus[model3.status]"
      ]
    },
    {
      "cell_type": "code",
      "execution_count": null,
      "id": "6dcf8090",
      "metadata": {
        "colab": {
          "base_uri": "https://localhost:8080/"
        },
        "id": "6dcf8090",
        "outputId": "0fad5582-9679-4f1e-f4f9-51190b86c86d"
      },
      "outputs": [
        {
          "output_type": "stream",
          "name": "stdout",
          "text": [
            "Optimal objective function value =  1766204.0\n"
          ]
        }
      ],
      "source": [
        "print(\"Optimal objective function value = \", value(model3.objective))"
      ]
    },
    {
      "cell_type": "code",
      "execution_count": null,
      "id": "6ebc4a3f",
      "metadata": {
        "colab": {
          "base_uri": "https://localhost:8080/"
        },
        "id": "6ebc4a3f",
        "outputId": "f24475cd-922c-4615-8998-05119094f8c3"
      },
      "outputs": [
        {
          "output_type": "stream",
          "name": "stdout",
          "text": [
            "Hours_1 = 320.0\n",
            "Hours_10 = 304.0\n",
            "Hours_11 = 320.0\n",
            "Hours_12 = 320.0\n",
            "Hours_2 = 320.0\n",
            "Hours_3 = 320.0\n",
            "Hours_4 = 320.0\n",
            "Hours_5 = 228.0\n",
            "Hours_6 = 222.4\n",
            "Hours_7 = 291.0\n",
            "Hours_8 = 220.0\n",
            "Hours_9 = 304.0\n",
            "Inventory_0 = 150.0\n",
            "Inventory_1 = 190.0\n",
            "Inventory_10 = 109.0\n",
            "Inventory_11 = 127.0\n",
            "Inventory_12 = 150.0\n",
            "Inventory_2 = 234.6\n",
            "Inventory_3 = 317.6\n",
            "Inventory_4 = 100.0\n",
            "Inventory_5 = 100.0\n",
            "Inventory_6 = 100.0\n",
            "Inventory_7 = 100.0\n",
            "Inventory_8 = 100.0\n",
            "Inventory_9 = 100.0\n",
            "Overtime_1 = 0.0\n",
            "Overtime_10 = 0.0\n",
            "Overtime_11 = 0.0\n",
            "Overtime_12 = 0.0\n",
            "Overtime_2 = 25.6\n",
            "Overtime_3 = 40.0\n",
            "Overtime_4 = 40.0\n",
            "Overtime_5 = 0.0\n",
            "Overtime_6 = 0.0\n",
            "Overtime_7 = 0.0\n",
            "Overtime_8 = 0.0\n",
            "Overtime_9 = 0.0\n",
            "Production_1 = 320.0\n",
            "Production_10 = 304.0\n",
            "Production_11 = 320.0\n",
            "Production_12 = 320.0\n",
            "Production_2 = 345.6\n",
            "Production_3 = 360.0\n",
            "Production_4 = 360.0\n",
            "Production_5 = 228.0\n",
            "Production_6 = 222.4\n",
            "Production_7 = 291.0\n",
            "Production_8 = 220.0\n",
            "Production_9 = 304.0\n"
          ]
        }
      ],
      "source": [
        "for v in model3.variables():\n",
        "    print(v.name, \"=\", v.varValue)"
      ]
    },
    {
      "cell_type": "markdown",
      "id": "8286de33",
      "metadata": {
        "id": "8286de33"
      },
      "source": [
        "# Question 4"
      ]
    },
    {
      "cell_type": "markdown",
      "id": "ebf4916f",
      "metadata": {
        "id": "ebf4916f"
      },
      "source": [
        "$$\n",
        "\\text{Parameter Update}\n",
        "$$\n",
        "\n",
        "$$\n",
        "s_8 = $2600 - $260 = $2340\n",
        "$$\n",
        "\n",
        "$$\n",
        "D_8 = D_8 \\times 150\\% + D_9 \\times 20\\% + D_{10} \\times 20\\%\n",
        "$$\n",
        "\n",
        "$$\n",
        "D_9 = D_9 \\times 80\\%\n",
        "$$\n",
        "\n",
        "$$\n",
        "D_{10} = D_{10} \\times 80\\%\n",
        "$$"
      ]
    },
    {
      "cell_type": "code",
      "execution_count": null,
      "id": "b34b2433",
      "metadata": {
        "id": "b34b2433"
      },
      "outputs": [],
      "source": [
        "model4 = None"
      ]
    },
    {
      "cell_type": "code",
      "execution_count": null,
      "id": "da4a1a76",
      "metadata": {
        "id": "da4a1a76"
      },
      "outputs": [],
      "source": [
        "demand_q4 = {\n",
        "\n",
        "1 : 280,\n",
        "2 : 301,\n",
        "3 : 277,\n",
        "4 : 310,\n",
        "5 : 285,\n",
        "6 : 278,\n",
        "7 : 291,\n",
        "8 : 220 * 1.5 + 304 * 0.2 + 295 * 0.2,\n",
        "9 : 304 * 0.8,\n",
        "10 : 295 * 0.8,\n",
        "11 : 302,\n",
        "12 : 297\n",
        "}\n",
        "\n",
        "\n",
        "st_q4 = {\n",
        "\n",
        "1 : 2600,\n",
        "2 : 2600,\n",
        "3 : 2600,\n",
        "4 : 2600,\n",
        "5 : 2600,\n",
        "6 : 2600,\n",
        "7 : 2600,\n",
        "8 : 2340,\n",
        "9 : 2600,\n",
        "10 : 2600,\n",
        "11 : 2600,\n",
        "12 : 2600\n",
        "}"
      ]
    },
    {
      "cell_type": "code",
      "execution_count": null,
      "id": "a07fbce4",
      "metadata": {
        "id": "a07fbce4"
      },
      "outputs": [],
      "source": [
        "Tsales_q4 = lpSum(st_q4[i] * demand_q4[i] for i in months)\n",
        "\n",
        "model4 = LpProblem(\"Aggregate-Planning-Problem\", LpMaximize)\n",
        "model4 += Tsales_q4 - Tlabor - Tinv - Tovertime - Tprod"
      ]
    },
    {
      "cell_type": "code",
      "execution_count": null,
      "id": "3756f04e",
      "metadata": {
        "id": "3756f04e"
      },
      "outputs": [],
      "source": [
        "for i in months_inventory:\n",
        "\n",
        "    if i == 0:\n",
        "        model4 += inventory_vars[i] == 150,  f\"Inventory Balance {i}\"\n",
        "        model4 += inventory_vars[i+1] == inventory_vars[i] + production_vars[i + 1] - demand[i + 1]\n",
        "    elif i == 12:\n",
        "        model4 += inventory_vars[i] == 150,  f\"Inventory Balance {i}\"\n",
        "    else:\n",
        "        model4 += inventory_vars[i + 1] == inventory_vars[i] + production_vars[i+1] - demand_q3[i+1], f\"Inventory Balance {i}\"\n",
        "\n",
        "\n",
        "for i in months:\n",
        "\n",
        "    model4 += production_vars[i] == regular_hours[i] + overtime_hours[i], f\"Production Workforce Relation {i}\"\n",
        "\n",
        "\n",
        "for i in months:\n",
        "\n",
        "    if i != 12:\n",
        "\n",
        "        model4 += inventory_vars[i] >= 100, f\"Intermediate Inventory Level {i}\"\n",
        "\n",
        "\n",
        "for i in months:\n",
        "\n",
        "    model4 += regular_hours[i] <= 320, f\"Workforce Balance {i}\"\n",
        "\n",
        "for i in months:\n",
        "\n",
        "    model4 += 40 >= overtime_hours[i], f\"Overtime {i}\""
      ]
    },
    {
      "cell_type": "code",
      "source": [
        "model4.solve()\n",
        "LpStatus[model4.status]"
      ],
      "metadata": {
        "colab": {
          "base_uri": "https://localhost:8080/",
          "height": 36
        },
        "id": "ru1wX2I4xGt_",
        "outputId": "87a7e5d7-dae7-4bf3-885f-31d392f87e4a"
      },
      "id": "ru1wX2I4xGt_",
      "execution_count": null,
      "outputs": [
        {
          "output_type": "execute_result",
          "data": {
            "text/plain": [
              "'Optimal'"
            ],
            "application/vnd.google.colaboratory.intrinsic+json": {
              "type": "string"
            }
          },
          "metadata": {},
          "execution_count": 726
        }
      ]
    },
    {
      "cell_type": "code",
      "source": [
        "for v in model4.variables():\n",
        "    print(v.name, \"=\", v.varValue)"
      ],
      "metadata": {
        "colab": {
          "base_uri": "https://localhost:8080/"
        },
        "id": "oGtLY2Y0mcgl",
        "outputId": "97471280-3156-47d2-9905-a4f53fe0ba5a"
      },
      "id": "oGtLY2Y0mcgl",
      "execution_count": null,
      "outputs": [
        {
          "output_type": "stream",
          "name": "stdout",
          "text": [
            "Hours_1 = 320.0\n",
            "Hours_10 = 304.0\n",
            "Hours_11 = 320.0\n",
            "Hours_12 = 320.0\n",
            "Hours_2 = 320.0\n",
            "Hours_3 = 320.0\n",
            "Hours_4 = 320.0\n",
            "Hours_5 = 228.0\n",
            "Hours_6 = 222.4\n",
            "Hours_7 = 291.0\n",
            "Hours_8 = 220.0\n",
            "Hours_9 = 304.0\n",
            "Inventory_0 = 150.0\n",
            "Inventory_1 = 190.0\n",
            "Inventory_10 = 109.0\n",
            "Inventory_11 = 127.0\n",
            "Inventory_12 = 150.0\n",
            "Inventory_2 = 234.6\n",
            "Inventory_3 = 317.6\n",
            "Inventory_4 = 100.0\n",
            "Inventory_5 = 100.0\n",
            "Inventory_6 = 100.0\n",
            "Inventory_7 = 100.0\n",
            "Inventory_8 = 100.0\n",
            "Inventory_9 = 100.0\n",
            "Overtime_1 = 0.0\n",
            "Overtime_10 = 0.0\n",
            "Overtime_11 = 0.0\n",
            "Overtime_12 = 0.0\n",
            "Overtime_2 = 25.6\n",
            "Overtime_3 = 40.0\n",
            "Overtime_4 = 40.0\n",
            "Overtime_5 = 0.0\n",
            "Overtime_6 = 0.0\n",
            "Overtime_7 = 0.0\n",
            "Overtime_8 = 0.0\n",
            "Overtime_9 = 0.0\n",
            "Production_1 = 320.0\n",
            "Production_10 = 304.0\n",
            "Production_11 = 320.0\n",
            "Production_12 = 320.0\n",
            "Production_2 = 345.6\n",
            "Production_3 = 360.0\n",
            "Production_4 = 360.0\n",
            "Production_5 = 228.0\n",
            "Production_6 = 222.4\n",
            "Production_7 = 291.0\n",
            "Production_8 = 220.0\n",
            "Production_9 = 304.0\n"
          ]
        }
      ]
    },
    {
      "cell_type": "code",
      "source": [
        "print(\"Optimal objective function value = \", value(model4.objective))"
      ],
      "metadata": {
        "colab": {
          "base_uri": "https://localhost:8080/"
        },
        "id": "iSuBd8VymdT9",
        "outputId": "18d3bc80-d549-4395-dec8-7143298db436"
      },
      "id": "iSuBd8VymdT9",
      "execution_count": null,
      "outputs": [
        {
          "output_type": "stream",
          "name": "stdout",
          "text": [
            "Optimal objective function value =  1682432.0\n"
          ]
        }
      ]
    },
    {
      "cell_type": "markdown",
      "source": [
        "# Question 5"
      ],
      "metadata": {
        "id": "CM-HjVv8Lso5"
      },
      "id": "CM-HjVv8Lso5"
    },
    {
      "cell_type": "markdown",
      "source": [
        "$$\n",
        "\\text{Parameter Update}\n",
        "$$\n",
        "\n",
        "$$\n",
        "s_t = $2600\n",
        "$$\n",
        "\n",
        "$$\n",
        "D_4 = D_4 \\times 50\\%\n",
        "$$\n"
      ],
      "metadata": {
        "id": "EMJXan9IL8gW"
      },
      "id": "EMJXan9IL8gW"
    },
    {
      "cell_type": "code",
      "source": [
        "demand_q5 = {\n",
        "\n",
        "1 : 280,\n",
        "2: 301,\n",
        "3 : 277,\n",
        "4: 310 * 0.5,\n",
        "5 : 285,\n",
        "6 : 278,\n",
        "7 : 291,\n",
        "8 : 220,\n",
        "9 : 304,\n",
        "10 : 295,\n",
        "11 : 302,\n",
        "12 : 297\n",
        "}"
      ],
      "metadata": {
        "id": "swOAWjdv6_EH"
      },
      "id": "swOAWjdv6_EH",
      "execution_count": null,
      "outputs": []
    },
    {
      "cell_type": "code",
      "source": [
        "Tsales_q5 = lpSum(2600 * demand_q5[i] for i in months)\n",
        "\n",
        "model5 = LpProblem(\"Aggregate-Planning-Problem\", LpMaximize)\n",
        "model5 += Tsales_q5 - Tlabor - Tinv - Tovertime - Tprod"
      ],
      "metadata": {
        "id": "cTiRm9wCLwNQ"
      },
      "id": "cTiRm9wCLwNQ",
      "execution_count": null,
      "outputs": []
    },
    {
      "cell_type": "code",
      "source": [
        "for i in months_inventory:\n",
        "\n",
        "    if i == 0:\n",
        "        model5 += inventory_vars[i] == 150,  f\"Inventory Balance {i}\"\n",
        "        model5 += inventory_vars[i+1] == inventory_vars[i] + production_vars[i + 1] - demand_q5[i + 1]\n",
        "    elif i == 12:\n",
        "        model5 += inventory_vars[i] == 150,  f\"Inventory Balance {i}\"\n",
        "    else:\n",
        "        model5 += inventory_vars[i + 1] == inventory_vars[i] + production_vars[i+1] - demand_q5[i+1], f\"Inventory Balance {i}\"\n",
        "\n",
        "\n",
        "for i in months:\n",
        "    model5 += production_vars[i] == regular_hours[i] + overtime_hours[i], f\"Production Workforce Relation {i}\"\n",
        "\n",
        "for i in months:\n",
        "    if i != 12:\n",
        "        model5 += inventory_vars[i] >= 100, f\"Intermediate Inventory Level {i}\"\n",
        "\n",
        "for i in months:\n",
        "    model5 += regular_hours[i] <= 320, f\"Workforce Balance {i}\"\n",
        "\n",
        "for i in months:\n",
        "    model5 += 40 >= overtime_hours[i], f\"Overtime {i}\""
      ],
      "metadata": {
        "id": "W0FCvjM_LyMO"
      },
      "id": "W0FCvjM_LyMO",
      "execution_count": null,
      "outputs": []
    },
    {
      "cell_type": "code",
      "source": [
        "model5.solve()\n",
        "print(\"Optimal objective function value = \", value(model5.objective))\n",
        "LpStatus[model5.status]"
      ],
      "metadata": {
        "colab": {
          "base_uri": "https://localhost:8080/",
          "height": 53
        },
        "id": "xIUx58WaL03n",
        "outputId": "3c188fea-d7e0-4341-fb1e-4c6a149189ea"
      },
      "id": "xIUx58WaL03n",
      "execution_count": null,
      "outputs": [
        {
          "output_type": "stream",
          "name": "stdout",
          "text": [
            "Optimal objective function value =  1827400.0\n"
          ]
        },
        {
          "output_type": "execute_result",
          "data": {
            "text/plain": [
              "'Optimal'"
            ],
            "application/vnd.google.colaboratory.intrinsic+json": {
              "type": "string"
            }
          },
          "metadata": {},
          "execution_count": 733
        }
      ]
    },
    {
      "cell_type": "code",
      "source": [
        "for v in model5.variables():\n",
        "    print(v.name, \"=\", v.varValue)"
      ],
      "metadata": {
        "colab": {
          "base_uri": "https://localhost:8080/"
        },
        "id": "CicE3woeL4Gc",
        "outputId": "c840a3eb-c4d1-4b4d-b13f-d976e37c3425"
      },
      "id": "CicE3woeL4Gc",
      "execution_count": null,
      "outputs": [
        {
          "output_type": "stream",
          "name": "stdout",
          "text": [
            "Hours_1 = 230.0\n",
            "Hours_10 = 304.0\n",
            "Hours_11 = 320.0\n",
            "Hours_12 = 320.0\n",
            "Hours_2 = 301.0\n",
            "Hours_3 = 277.0\n",
            "Hours_4 = 155.0\n",
            "Hours_5 = 285.0\n",
            "Hours_6 = 278.0\n",
            "Hours_7 = 291.0\n",
            "Hours_8 = 220.0\n",
            "Hours_9 = 304.0\n",
            "Inventory_0 = 150.0\n",
            "Inventory_1 = 100.0\n",
            "Inventory_10 = 109.0\n",
            "Inventory_11 = 127.0\n",
            "Inventory_12 = 150.0\n",
            "Inventory_2 = 100.0\n",
            "Inventory_3 = 100.0\n",
            "Inventory_4 = 100.0\n",
            "Inventory_5 = 100.0\n",
            "Inventory_6 = 100.0\n",
            "Inventory_7 = 100.0\n",
            "Inventory_8 = 100.0\n",
            "Inventory_9 = 100.0\n",
            "Overtime_1 = 0.0\n",
            "Overtime_10 = 0.0\n",
            "Overtime_11 = 0.0\n",
            "Overtime_12 = 0.0\n",
            "Overtime_2 = 0.0\n",
            "Overtime_3 = 0.0\n",
            "Overtime_4 = 0.0\n",
            "Overtime_5 = 0.0\n",
            "Overtime_6 = 0.0\n",
            "Overtime_7 = 0.0\n",
            "Overtime_8 = 0.0\n",
            "Overtime_9 = 0.0\n",
            "Production_1 = 230.0\n",
            "Production_10 = 304.0\n",
            "Production_11 = 320.0\n",
            "Production_12 = 320.0\n",
            "Production_2 = 301.0\n",
            "Production_3 = 277.0\n",
            "Production_4 = 155.0\n",
            "Production_5 = 285.0\n",
            "Production_6 = 278.0\n",
            "Production_7 = 291.0\n",
            "Production_8 = 220.0\n",
            "Production_9 = 304.0\n"
          ]
        }
      ]
    },
    {
      "cell_type": "markdown",
      "source": [
        "# Question 6"
      ],
      "metadata": {
        "id": "Idl_iTleMNbS"
      },
      "id": "Idl_iTleMNbS"
    },
    {
      "cell_type": "markdown",
      "source": [
        "$$\n",
        "\\text{Parameter Update}\n",
        "$$\n",
        "\n",
        "$$\n",
        "s_t = $2600 \\text{ except } s_4\n",
        "$$\n",
        "\n",
        "$$\n",
        "s_4 = $2600 - $260 = $2340\n",
        "$$\n",
        "\n",
        "$$\n",
        "D_4 = D_4 \\times 150\\% + D_5 \\times 20\\% + D_6 \\times 20\\%\n",
        "$$\n",
        "\n",
        "$$\n",
        "D_5 = D_5 \\times 80\\%\n",
        "$$\n",
        "\n",
        "$$\n",
        "D_6 = D_6 \\times 80\\%\n",
        "$$"
      ],
      "metadata": {
        "id": "xqMesAjqMSLE"
      },
      "id": "xqMesAjqMSLE"
    },
    {
      "cell_type": "code",
      "source": [
        "demand_q6 = {\n",
        "\n",
        "1 : 280,\n",
        "2 : 301,\n",
        "3 : 277,\n",
        "4 : 310 * 1.5 + 285 * 0.2 + 278 * 0.2,\n",
        "5 : 285 * 0.8,\n",
        "6 : 278 * 0.8,\n",
        "7 : 291,\n",
        "8 : 220,\n",
        "9 : 304,\n",
        "10 : 295,\n",
        "11 : 302,\n",
        "12 : 297\n",
        "}\n",
        "\n",
        "st_q6 = {\n",
        "\n",
        "1 : 2600,\n",
        "2 : 2600,\n",
        "3 : 2600,\n",
        "4 : 2340,\n",
        "5 : 2600,\n",
        "6 : 2600,\n",
        "7 : 2600,\n",
        "8 : 2600,\n",
        "9 : 2600,\n",
        "10 : 2600,\n",
        "11 : 2600,\n",
        "12 : 2600\n",
        "}"
      ],
      "metadata": {
        "id": "9rHJ9TOjL4dF"
      },
      "id": "9rHJ9TOjL4dF",
      "execution_count": null,
      "outputs": []
    },
    {
      "cell_type": "code",
      "source": [
        "Tsales_q6 = lpSum(st_q6[i] * demand_q6[i] for i in months)\n",
        "\n",
        "model6 = LpProblem(\"Aggregate-Planning-Problem\", LpMaximize)\n",
        "model6 += Tsales_q6 - Tlabor - Tinv - Tovertime - Tprod"
      ],
      "metadata": {
        "id": "KzzH-Y8OMRO_"
      },
      "id": "KzzH-Y8OMRO_",
      "execution_count": null,
      "outputs": []
    },
    {
      "cell_type": "code",
      "source": [
        "for i in months_inventory:\n",
        "\n",
        "    if i == 0:\n",
        "        model6 += inventory_vars[i] == 150,  f\"Inventory Balance {i}\"\n",
        "        model6 += inventory_vars[i+1] == inventory_vars[i] + production_vars[i + 1] - demand_q6[i + 1]\n",
        "    elif i == 12:\n",
        "        model6 += inventory_vars[i] == 150,  f\"Inventory Balance {i}\"\n",
        "    else:\n",
        "        model6 += inventory_vars[i + 1] == inventory_vars[i] + production_vars[i+1] - demand_q6[i+1], f\"Inventory Balance {i}\"\n",
        "\n",
        "for i in months:\n",
        "    model6 += production_vars[i] == regular_hours[i] + overtime_hours[i], f\"Production Workforce Relation {i}\"\n",
        "\n",
        "for i in months:\n",
        "    if i != 12:\n",
        "        model6 += inventory_vars[i] >= 100, f\"Intermediate Inventory Level {i}\"\n",
        "\n",
        "for i in months:\n",
        "    model6 += regular_hours[i] <= 320, f\"Workforce Balance {i}\"\n",
        "\n",
        "for i in months:\n",
        "    model6 += 40 >= overtime_hours[i], f\"Overtime {i}\""
      ],
      "metadata": {
        "id": "h5D1QKunMbzj"
      },
      "id": "h5D1QKunMbzj",
      "execution_count": null,
      "outputs": []
    },
    {
      "cell_type": "code",
      "source": [
        "model6.solve()\n",
        "LpStatus[model6.status]"
      ],
      "metadata": {
        "colab": {
          "base_uri": "https://localhost:8080/",
          "height": 36
        },
        "id": "mf2MjZilMdWT",
        "outputId": "6883beff-2b68-4350-d3eb-37a1944274ad"
      },
      "id": "mf2MjZilMdWT",
      "execution_count": null,
      "outputs": [
        {
          "output_type": "execute_result",
          "data": {
            "text/plain": [
              "'Optimal'"
            ],
            "application/vnd.google.colaboratory.intrinsic+json": {
              "type": "string"
            }
          },
          "metadata": {},
          "execution_count": 738
        }
      ]
    },
    {
      "cell_type": "code",
      "source": [
        "print(\"Optimal objective function value = \", value(model6.objective))"
      ],
      "metadata": {
        "colab": {
          "base_uri": "https://localhost:8080/"
        },
        "id": "AS-qm-apMe_T",
        "outputId": "801920be-8663-4bbb-efd2-23d22272a28c"
      },
      "id": "AS-qm-apMe_T",
      "execution_count": null,
      "outputs": [
        {
          "output_type": "stream",
          "name": "stdout",
          "text": [
            "Optimal objective function value =  1766204.0\n"
          ]
        }
      ]
    },
    {
      "cell_type": "code",
      "source": [
        "for v in model6.variables():\n",
        "    print(v.name, \"=\", v.varValue)"
      ],
      "metadata": {
        "colab": {
          "base_uri": "https://localhost:8080/"
        },
        "id": "zyDAyIncMgHu",
        "outputId": "9d4e10b8-2001-44fb-80bc-d4409c65d504"
      },
      "id": "zyDAyIncMgHu",
      "execution_count": null,
      "outputs": [
        {
          "output_type": "stream",
          "name": "stdout",
          "text": [
            "Hours_1 = 320.0\n",
            "Hours_10 = 304.0\n",
            "Hours_11 = 320.0\n",
            "Hours_12 = 320.0\n",
            "Hours_2 = 320.0\n",
            "Hours_3 = 320.0\n",
            "Hours_4 = 320.0\n",
            "Hours_5 = 228.0\n",
            "Hours_6 = 222.4\n",
            "Hours_7 = 291.0\n",
            "Hours_8 = 220.0\n",
            "Hours_9 = 304.0\n",
            "Inventory_0 = 150.0\n",
            "Inventory_1 = 190.0\n",
            "Inventory_10 = 109.0\n",
            "Inventory_11 = 127.0\n",
            "Inventory_12 = 150.0\n",
            "Inventory_2 = 234.6\n",
            "Inventory_3 = 317.6\n",
            "Inventory_4 = 100.0\n",
            "Inventory_5 = 100.0\n",
            "Inventory_6 = 100.0\n",
            "Inventory_7 = 100.0\n",
            "Inventory_8 = 100.0\n",
            "Inventory_9 = 100.0\n",
            "Overtime_1 = 0.0\n",
            "Overtime_10 = 0.0\n",
            "Overtime_11 = 0.0\n",
            "Overtime_12 = 0.0\n",
            "Overtime_2 = 25.6\n",
            "Overtime_3 = 40.0\n",
            "Overtime_4 = 40.0\n",
            "Overtime_5 = 0.0\n",
            "Overtime_6 = 0.0\n",
            "Overtime_7 = 0.0\n",
            "Overtime_8 = 0.0\n",
            "Overtime_9 = 0.0\n",
            "Production_1 = 320.0\n",
            "Production_10 = 304.0\n",
            "Production_11 = 320.0\n",
            "Production_12 = 320.0\n",
            "Production_2 = 345.6\n",
            "Production_3 = 360.0\n",
            "Production_4 = 360.0\n",
            "Production_5 = 228.0\n",
            "Production_6 = 222.4\n",
            "Production_7 = 291.0\n",
            "Production_8 = 220.0\n",
            "Production_9 = 304.0\n"
          ]
        }
      ]
    },
    {
      "cell_type": "markdown",
      "source": [
        "# Question 7"
      ],
      "metadata": {
        "id": "uCBqZnrfMhdN"
      },
      "id": "uCBqZnrfMhdN"
    },
    {
      "cell_type": "markdown",
      "source": [
        "$$\n",
        "\\text{Parameter Update}\n",
        "$$\n",
        "\n",
        "$$\n",
        "s_t = $2600 \\text{ except } s_4\n",
        "$$\n",
        "\n",
        "$$\n",
        "s_4 = $2600 - $260 = $2340\n",
        "$$\n",
        "\n",
        "$$\n",
        "D_4 = D_4 + D_5 \\times 25\\% + D_6 \\times 25\\%\n",
        "$$\n",
        "\n",
        "$$\n",
        "D_5 = D_5 \\times 75\\%\n",
        "$$\n",
        "\n",
        "$$\n",
        "D_6 = D_6 \\times 75\\%\n",
        "$$"
      ],
      "metadata": {
        "id": "N8nomcE8MmGu"
      },
      "id": "N8nomcE8MmGu"
    },
    {
      "cell_type": "code",
      "source": [
        "demand_q7 = {\n",
        "\n",
        "1 : 280,\n",
        "2 : 301,\n",
        "3 : 277,\n",
        "4 : 310 + 285 * 0.25 + 278 * 0.25,\n",
        "5 : 285 * 0.75,\n",
        "6 : 278 * 0.75,\n",
        "7 : 291,\n",
        "8 : 220,\n",
        "9 : 304,\n",
        "10 : 295,\n",
        "11 : 302,\n",
        "12 : 297\n",
        "}\n",
        "\n",
        "st_q7 = {\n",
        "\n",
        "1 : 2600,\n",
        "2 : 2600,\n",
        "3 : 2600,\n",
        "4 : 2340,\n",
        "5 : 2600,\n",
        "6 : 2600,\n",
        "7 : 2600,\n",
        "8 : 2600,\n",
        "9 : 2600,\n",
        "10 : 2600,\n",
        "11 : 2600,\n",
        "12 : 2600\n",
        "}"
      ],
      "metadata": {
        "id": "loTy4d-aMjO3"
      },
      "id": "loTy4d-aMjO3",
      "execution_count": null,
      "outputs": []
    },
    {
      "cell_type": "code",
      "source": [
        "Tsales_q7 = lpSum(st_q7[i] * demand_q7[i] for i in months)\n",
        "\n",
        "model7 = LpProblem(\"Aggregate-Planning-Problem\", LpMaximize)\n",
        "model7 += Tsales_q7 - Tlabor - Tinv - Tovertime - Tprod"
      ],
      "metadata": {
        "id": "voG1FhBWMlHC"
      },
      "id": "voG1FhBWMlHC",
      "execution_count": null,
      "outputs": []
    },
    {
      "cell_type": "code",
      "source": [
        "for i in months_inventory:\n",
        "\n",
        "    if i == 0:\n",
        "        model7 += inventory_vars[i] == 150,  f\"Inventory Balance {i}\"\n",
        "        model7 += inventory_vars[i+1] == inventory_vars[i] + production_vars[i + 1] - demand_q7[i + 1]\n",
        "    elif i == 12:\n",
        "        model7 += inventory_vars[i] == 150,  f\"Inventory Balance {i}\"\n",
        "    else:\n",
        "        model7 += inventory_vars[i + 1] == inventory_vars[i] + production_vars[i+1] - demand_q7[i+1], f\"Inventory Balance {i}\"\n",
        "\n",
        "for i in months:\n",
        "    model7 += production_vars[i] == regular_hours[i] + overtime_hours[i], f\"Production Workforce Relation {i}\"\n",
        "\n",
        "for i in months:\n",
        "    if i != 12:\n",
        "        model7 += inventory_vars[i] >= 100, f\"Intermediate Inventory Level {i}\"\n",
        "\n",
        "for i in months:\n",
        "    model7 += regular_hours[i] <= 320, f\"Workforce Balance {i}\"\n",
        "\n",
        "for i in months:\n",
        "    model7 += 40 >= overtime_hours[i], f\"Overtime {i}\""
      ],
      "metadata": {
        "id": "mpaZK7DTMqPw"
      },
      "id": "mpaZK7DTMqPw",
      "execution_count": null,
      "outputs": []
    },
    {
      "cell_type": "code",
      "source": [
        "model7.solve()\n",
        "LpStatus[model7.status]"
      ],
      "metadata": {
        "colab": {
          "base_uri": "https://localhost:8080/",
          "height": 36
        },
        "id": "XCkqhErdMtrf",
        "outputId": "fe022bee-88b0-4cbe-9a50-78c0e8b3f320"
      },
      "id": "XCkqhErdMtrf",
      "execution_count": null,
      "outputs": [
        {
          "output_type": "execute_result",
          "data": {
            "text/plain": [
              "'Optimal'"
            ],
            "application/vnd.google.colaboratory.intrinsic+json": {
              "type": "string"
            }
          },
          "metadata": {},
          "execution_count": 744
        }
      ]
    },
    {
      "cell_type": "code",
      "source": [
        "print(\"Optimal objective function value = \", value(model7.objective))"
      ],
      "metadata": {
        "colab": {
          "base_uri": "https://localhost:8080/"
        },
        "id": "jG-O-vtKMvqk",
        "outputId": "29d5c8ce-350f-493f-eb44-cefddbea77f9"
      },
      "id": "jG-O-vtKMvqk",
      "execution_count": null,
      "outputs": [
        {
          "output_type": "stream",
          "name": "stdout",
          "text": [
            "Optimal objective function value =  1774480.0\n"
          ]
        }
      ]
    },
    {
      "cell_type": "code",
      "source": [
        "for v in model7.variables():\n",
        "    print(v.name, \"=\", v.varValue)"
      ],
      "metadata": {
        "colab": {
          "base_uri": "https://localhost:8080/"
        },
        "id": "i-bnfePxMxSh",
        "outputId": "bbddefd1-a930-409a-9408-d8ece23a51f6"
      },
      "id": "i-bnfePxMxSh",
      "execution_count": null,
      "outputs": [
        {
          "output_type": "stream",
          "name": "stdout",
          "text": [
            "Hours_1 = 298.75\n",
            "Hours_10 = 304.0\n",
            "Hours_11 = 320.0\n",
            "Hours_12 = 320.0\n",
            "Hours_2 = 320.0\n",
            "Hours_3 = 320.0\n",
            "Hours_4 = 320.0\n",
            "Hours_5 = 213.75\n",
            "Hours_6 = 208.5\n",
            "Hours_7 = 291.0\n",
            "Hours_8 = 220.0\n",
            "Hours_9 = 304.0\n",
            "Inventory_0 = 150.0\n",
            "Inventory_1 = 168.75\n",
            "Inventory_10 = 109.0\n",
            "Inventory_11 = 127.0\n",
            "Inventory_12 = 150.0\n",
            "Inventory_2 = 187.75\n",
            "Inventory_3 = 230.75\n",
            "Inventory_4 = 100.0\n",
            "Inventory_5 = 100.0\n",
            "Inventory_6 = 100.0\n",
            "Inventory_7 = 100.0\n",
            "Inventory_8 = 100.0\n",
            "Inventory_9 = 100.0\n",
            "Overtime_1 = 0.0\n",
            "Overtime_10 = 0.0\n",
            "Overtime_11 = 0.0\n",
            "Overtime_12 = 0.0\n",
            "Overtime_2 = 0.0\n",
            "Overtime_3 = 0.0\n",
            "Overtime_4 = 0.0\n",
            "Overtime_5 = 0.0\n",
            "Overtime_6 = 0.0\n",
            "Overtime_7 = 0.0\n",
            "Overtime_8 = 0.0\n",
            "Overtime_9 = 0.0\n",
            "Production_1 = 298.75\n",
            "Production_10 = 304.0\n",
            "Production_11 = 320.0\n",
            "Production_12 = 320.0\n",
            "Production_2 = 320.0\n",
            "Production_3 = 320.0\n",
            "Production_4 = 320.0\n",
            "Production_5 = 213.75\n",
            "Production_6 = 208.5\n",
            "Production_7 = 291.0\n",
            "Production_8 = 220.0\n",
            "Production_9 = 304.0\n"
          ]
        }
      ]
    },
    {
      "cell_type": "markdown",
      "source": [
        "# Question 8"
      ],
      "metadata": {
        "id": "1PW257yLM2VV"
      },
      "id": "1PW257yLM2VV"
    },
    {
      "cell_type": "markdown",
      "source": [
        "$$\n",
        "\\text{Parameter Update}\n",
        "$$\n",
        "\n",
        "$$\n",
        "s_t = $2600 \\text{ except } s_8\n",
        "$$\n",
        "\n",
        "$$\n",
        "s_8 = $2600 - $260 = $2340\n",
        "$$\n",
        "\n",
        "$$\n",
        "D_8 = D_8 + D_9 \\times 25\\% + D_{10} \\times 25\\%\n",
        "$$\n",
        "\n",
        "$$\n",
        "D_9 = D_9 \\times 75\\%\n",
        "$$\n",
        "\n",
        "$$\n",
        "D_{10} = D_{10} \\times 75\\%\n",
        "$$"
      ],
      "metadata": {
        "id": "vDWGRB66M5Dm"
      },
      "id": "vDWGRB66M5Dm"
    },
    {
      "cell_type": "code",
      "source": [
        "demand_q8 = {\n",
        "\n",
        "1 : 280,\n",
        "2 : 301,\n",
        "3 : 277,\n",
        "4 : 310,\n",
        "5 : 285,\n",
        "6 : 278,\n",
        "7 : 291,\n",
        "8 : 220 + 304 * 0.25 + 295 * 0.25,\n",
        "9 : 304 * 0.75,\n",
        "10 : 295 * 0.75,\n",
        "11 : 302,\n",
        "12 : 297\n",
        "}\n",
        "\n",
        "st_q8 = {\n",
        "\n",
        "1 : 2600,\n",
        "2 : 2600,\n",
        "3 : 2600,\n",
        "4 : 2600,\n",
        "5 : 2600,\n",
        "6 : 2600,\n",
        "7 : 2600,\n",
        "8 : 2340,\n",
        "9 : 2600,\n",
        "10 : 2600,\n",
        "11 : 2600,\n",
        "12 : 2600\n",
        "}"
      ],
      "metadata": {
        "id": "bjtU5CvUMxyx"
      },
      "id": "bjtU5CvUMxyx",
      "execution_count": null,
      "outputs": []
    },
    {
      "cell_type": "code",
      "source": [
        "Tsales_q8 = lpSum(st_q8[i] * demand_q8[i] for i in months)\n",
        "\n",
        "model8 = LpProblem(\"Aggregate-Planning-Problem\", LpMaximize)\n",
        "model8 += Tsales_q8 - Tlabor - Tinv - Tovertime - Tprod\n",
        "\n",
        "for i in months_inventory:\n",
        "\n",
        "    if i == 0:\n",
        "        model8 += inventory_vars[i] == 150,  f\"Inventory Balance {i}\"\n",
        "        model8 += inventory_vars[i+1] == inventory_vars[i] + production_vars[i + 1] - demand_q8[i + 1]\n",
        "    elif i == 12:\n",
        "        model8 += inventory_vars[i] == 150,  f\"Inventory Balance {i}\"\n",
        "    else:\n",
        "        model8 += inventory_vars[i + 1] == inventory_vars[i] + production_vars[i+1] - demand_q8[i+1], f\"Inventory Balance {i}\"\n",
        "\n",
        "for i in months:\n",
        "    model8 += production_vars[i] == regular_hours[i] + overtime_hours[i], f\"Production Workforce Relation {i}\"\n",
        "\n",
        "for i in months:\n",
        "    if i != 12:\n",
        "        model8 += inventory_vars[i] >= 100, f\"Intermediate Inventory Level {i}\"\n",
        "\n",
        "for i in months:\n",
        "    model8 += regular_hours[i] <= 320, f\"Workforce Balance {i}\"\n",
        "\n",
        "for i in months:\n",
        "    model8 += 40 >= overtime_hours[i], f\"Overtime {i}\"\n",
        "\n",
        "\n",
        "model8.solve()\n",
        "LpStatus[model8.status]"
      ],
      "metadata": {
        "colab": {
          "base_uri": "https://localhost:8080/",
          "height": 36
        },
        "id": "C-dpz6iUM0ht",
        "outputId": "7708d4a1-d40a-41b1-d2dc-72a85de9ff5a"
      },
      "id": "C-dpz6iUM0ht",
      "execution_count": null,
      "outputs": [
        {
          "output_type": "execute_result",
          "data": {
            "text/plain": [
              "'Optimal'"
            ],
            "application/vnd.google.colaboratory.intrinsic+json": {
              "type": "string"
            }
          },
          "metadata": {},
          "execution_count": 748
        }
      ]
    },
    {
      "cell_type": "code",
      "source": [
        "print(\"Optimal objective function value = \", value(model8.objective))"
      ],
      "metadata": {
        "colab": {
          "base_uri": "https://localhost:8080/"
        },
        "id": "iWCNheSpNANI",
        "outputId": "06ef0b7a-9c1e-42d6-ef05-666affddfb93"
      },
      "id": "iWCNheSpNANI",
      "execution_count": null,
      "outputs": [
        {
          "output_type": "stream",
          "name": "stdout",
          "text": [
            "Optimal objective function value =  1817215.0\n"
          ]
        }
      ]
    },
    {
      "cell_type": "code",
      "source": [
        "for v in model8.variables():\n",
        "    print(v.name, \"=\", v.varValue)"
      ],
      "metadata": {
        "colab": {
          "base_uri": "https://localhost:8080/"
        },
        "id": "WiBYgAIRNBbT",
        "outputId": "b7456f7f-47d8-40ad-d249-e772ddad0307"
      },
      "id": "WiBYgAIRNBbT",
      "execution_count": null,
      "outputs": [
        {
          "output_type": "stream",
          "name": "stdout",
          "text": [
            "Hours_1 = 230.0\n",
            "Hours_10 = 230.25\n",
            "Hours_11 = 320.0\n",
            "Hours_12 = 320.0\n",
            "Hours_2 = 301.0\n",
            "Hours_3 = 277.0\n",
            "Hours_4 = 310.0\n",
            "Hours_5 = 285.0\n",
            "Hours_6 = 298.75\n",
            "Hours_7 = 320.0\n",
            "Hours_8 = 320.0\n",
            "Hours_9 = 228.0\n",
            "Inventory_0 = 150.0\n",
            "Inventory_1 = 100.0\n",
            "Inventory_10 = 109.0\n",
            "Inventory_11 = 127.0\n",
            "Inventory_12 = 150.0\n",
            "Inventory_2 = 100.0\n",
            "Inventory_3 = 100.0\n",
            "Inventory_4 = 100.0\n",
            "Inventory_5 = 100.0\n",
            "Inventory_6 = 120.75\n",
            "Inventory_7 = 149.75\n",
            "Inventory_8 = 100.0\n",
            "Inventory_9 = 100.0\n",
            "Overtime_1 = 0.0\n",
            "Overtime_10 = 0.0\n",
            "Overtime_11 = 0.0\n",
            "Overtime_12 = 0.0\n",
            "Overtime_2 = 0.0\n",
            "Overtime_3 = 0.0\n",
            "Overtime_4 = 0.0\n",
            "Overtime_5 = 0.0\n",
            "Overtime_6 = 0.0\n",
            "Overtime_7 = 0.0\n",
            "Overtime_8 = 0.0\n",
            "Overtime_9 = 0.0\n",
            "Production_1 = 230.0\n",
            "Production_10 = 230.25\n",
            "Production_11 = 320.0\n",
            "Production_12 = 320.0\n",
            "Production_2 = 301.0\n",
            "Production_3 = 277.0\n",
            "Production_4 = 310.0\n",
            "Production_5 = 285.0\n",
            "Production_6 = 298.75\n",
            "Production_7 = 320.0\n",
            "Production_8 = 320.0\n",
            "Production_9 = 228.0\n"
          ]
        }
      ]
    },
    {
      "cell_type": "markdown",
      "source": [
        "# Question 9"
      ],
      "metadata": {
        "id": "gJKa4aS6NS6I"
      },
      "id": "gJKa4aS6NS6I"
    },
    {
      "cell_type": "markdown",
      "source": [
        "$$\n",
        "\\text{Parameter Update}\n",
        "$$\n",
        "\n",
        "$$\n",
        "s_4 = $2600 - $260 = $2340\n",
        "$$\n",
        "\n",
        "$$\n",
        "D_4 = D_4 \\times 150\\% + D_5 \\times 20\\% + D_6 \\times 20\\%\n",
        "$$\n",
        "\n",
        "$$\n",
        "D_5 = D_5 \\times 80\\%\n",
        "$$\n",
        "\n",
        "$$\n",
        "D_7 = D_7 \\times 80\\%\n",
        "$$\n",
        "\n",
        "$$\n",
        "D_8 = D_8 \\times 50\\%\n",
        "$$"
      ],
      "metadata": {
        "id": "PAdhoMbxNSu5"
      },
      "id": "PAdhoMbxNSu5"
    },
    {
      "cell_type": "code",
      "source": [
        "demand_q9 = {\n",
        "\n",
        "1 : 280,\n",
        "2: 301,\n",
        "3 : 277,\n",
        "4: 310 * 1.5 + 285 * 0.2 + 278 * 0.2,\n",
        "5 : 285 * 0.8,\n",
        "6 : 278 * 0.8,\n",
        "7 : 291,\n",
        "8 : 220 * 0.5,\n",
        "9 : 304,\n",
        "10 : 295,\n",
        "11 : 302,\n",
        "12 : 297\n",
        "}\n",
        "\n",
        "st_q9 = {\n",
        "\n",
        "1 : 2600,\n",
        "2 : 2600,\n",
        "3 : 2600,\n",
        "4 : 2340,\n",
        "5 : 2600,\n",
        "6 : 2600,\n",
        "7 : 2600,\n",
        "8 : 2600,\n",
        "9 : 2600,\n",
        "10 : 2600,\n",
        "11 : 2600,\n",
        "12 : 2600\n",
        "}"
      ],
      "metadata": {
        "id": "RA8JNCTaNC3f"
      },
      "id": "RA8JNCTaNC3f",
      "execution_count": null,
      "outputs": []
    },
    {
      "cell_type": "code",
      "source": [
        "Tsales_q9 = lpSum(st_q9[i] * demand_q9[i] for i in months)\n",
        "\n",
        "model9 = LpProblem(\"Aggregate-Planning-Problem\", LpMaximize)\n",
        "model9 += Tsales_q9 - Tlabor - Tinv - Tovertime - Tprod"
      ],
      "metadata": {
        "id": "oOYqHSG9NXFw"
      },
      "id": "oOYqHSG9NXFw",
      "execution_count": null,
      "outputs": []
    },
    {
      "cell_type": "code",
      "source": [
        "for i in months_inventory:\n",
        "\n",
        "    if i == 0:\n",
        "        model9 += inventory_vars[i] == 150,  f\"Inventory Balance {i}\"\n",
        "        model9 += inventory_vars[i+1] == inventory_vars[i] + production_vars[i + 1] - demand[i + 1]\n",
        "    elif i == 12:\n",
        "        model9 += inventory_vars[i] == 150,  f\"Inventory Balance {i}\"\n",
        "    else:\n",
        "        model9 += inventory_vars[i + 1] == inventory_vars[i] + production_vars[i+1] - demand_q3[i+1], f\"Inventory Balance {i}\"\n",
        "\n",
        "\n",
        "for i in months:\n",
        "    model9 += production_vars[i] == regular_hours[i] + overtime_hours[i], f\"Production Workforce Relation {i}\"\n",
        "\n",
        "for i in months:\n",
        "    if i != 12:\n",
        "        model9 += inventory_vars[i] >= 100, f\"Intermediate Inventory Level {i}\"\n",
        "\n",
        "for i in months:\n",
        "    model9 += regular_hours[i] <= 320, f\"Workforce Balance {i}\"\n",
        "\n",
        "for i in months:\n",
        "    model9 += 40 >= overtime_hours[i], f\"Overtime {i}\""
      ],
      "metadata": {
        "id": "P6GbndjXNYyz"
      },
      "id": "P6GbndjXNYyz",
      "execution_count": null,
      "outputs": []
    },
    {
      "cell_type": "code",
      "source": [
        "model9.solve()\n",
        "LpStatus[model9.status]"
      ],
      "metadata": {
        "colab": {
          "base_uri": "https://localhost:8080/",
          "height": 36
        },
        "id": "bDDe_JM8Nb8Q",
        "outputId": "3661aca6-17ea-428f-9f46-5d883873e64d"
      },
      "id": "bDDe_JM8Nb8Q",
      "execution_count": null,
      "outputs": [
        {
          "output_type": "execute_result",
          "data": {
            "text/plain": [
              "'Optimal'"
            ],
            "application/vnd.google.colaboratory.intrinsic+json": {
              "type": "string"
            }
          },
          "metadata": {},
          "execution_count": 754
        }
      ]
    },
    {
      "cell_type": "code",
      "source": [
        "print(\"Optimal objective function value = \", value(model9.objective))"
      ],
      "metadata": {
        "colab": {
          "base_uri": "https://localhost:8080/"
        },
        "id": "1rqP-9gMNdKO",
        "outputId": "d43003e4-61fe-4a0c-b297-ddebac0f3957"
      },
      "id": "1rqP-9gMNdKO",
      "execution_count": null,
      "outputs": [
        {
          "output_type": "stream",
          "name": "stdout",
          "text": [
            "Optimal objective function value =  1480204.0\n"
          ]
        }
      ]
    },
    {
      "cell_type": "code",
      "source": [
        "for v in model9.variables():\n",
        "    print(v.name, \"=\", v.varValue)"
      ],
      "metadata": {
        "colab": {
          "base_uri": "https://localhost:8080/"
        },
        "id": "lhwSMNkoNeYX",
        "outputId": "6b65c2a5-1282-41bc-d47e-dda2e3a02009"
      },
      "id": "lhwSMNkoNeYX",
      "execution_count": null,
      "outputs": [
        {
          "output_type": "stream",
          "name": "stdout",
          "text": [
            "Hours_1 = 320.0\n",
            "Hours_10 = 304.0\n",
            "Hours_11 = 320.0\n",
            "Hours_12 = 320.0\n",
            "Hours_2 = 320.0\n",
            "Hours_3 = 320.0\n",
            "Hours_4 = 320.0\n",
            "Hours_5 = 228.0\n",
            "Hours_6 = 222.4\n",
            "Hours_7 = 291.0\n",
            "Hours_8 = 220.0\n",
            "Hours_9 = 304.0\n",
            "Inventory_0 = 150.0\n",
            "Inventory_1 = 190.0\n",
            "Inventory_10 = 109.0\n",
            "Inventory_11 = 127.0\n",
            "Inventory_12 = 150.0\n",
            "Inventory_2 = 234.6\n",
            "Inventory_3 = 317.6\n",
            "Inventory_4 = 100.0\n",
            "Inventory_5 = 100.0\n",
            "Inventory_6 = 100.0\n",
            "Inventory_7 = 100.0\n",
            "Inventory_8 = 100.0\n",
            "Inventory_9 = 100.0\n",
            "Overtime_1 = 0.0\n",
            "Overtime_10 = 0.0\n",
            "Overtime_11 = 0.0\n",
            "Overtime_12 = 0.0\n",
            "Overtime_2 = 25.6\n",
            "Overtime_3 = 40.0\n",
            "Overtime_4 = 40.0\n",
            "Overtime_5 = 0.0\n",
            "Overtime_6 = 0.0\n",
            "Overtime_7 = 0.0\n",
            "Overtime_8 = 0.0\n",
            "Overtime_9 = 0.0\n",
            "Production_1 = 320.0\n",
            "Production_10 = 304.0\n",
            "Production_11 = 320.0\n",
            "Production_12 = 320.0\n",
            "Production_2 = 345.6\n",
            "Production_3 = 360.0\n",
            "Production_4 = 360.0\n",
            "Production_5 = 228.0\n",
            "Production_6 = 222.4\n",
            "Production_7 = 291.0\n",
            "Production_8 = 220.0\n",
            "Production_9 = 304.0\n"
          ]
        }
      ]
    },
    {
      "cell_type": "markdown",
      "source": [
        "# Question 10"
      ],
      "metadata": {
        "id": "ilSjE1mCNswc"
      },
      "id": "ilSjE1mCNswc"
    },
    {
      "cell_type": "markdown",
      "source": [
        "$$\n",
        "\\text{Parameter Update}\n",
        "$$\n",
        "\n",
        "$$\n",
        "s_8 = $2600 - $260 = $2340\n",
        "$$\n",
        "\n",
        "$$\n",
        "D_8 = D_8 \\times 150\\% + D_9 \\times 20\\% + D_{10} \\times 20\\%\n",
        "$$\n",
        "\n",
        "$$\n",
        "D_9 = D_9 \\times 80\\%\n",
        "$$\n",
        "\n",
        "$$\n",
        "D_{10} = D_{10} \\times 80\\%\n",
        "$$\n",
        "\n",
        "$$\n",
        "D_4 = D_8 \\times 50\\%\n",
        "$$"
      ],
      "metadata": {
        "id": "jBCMCxhLN49x"
      },
      "id": "jBCMCxhLN49x"
    },
    {
      "cell_type": "code",
      "source": [
        "demand_q10 = {\n",
        "\n",
        "1 : 280,\n",
        "2 : 301,\n",
        "3 : 277,\n",
        "4: 310 * 0.5,\n",
        "5 : 285 ,\n",
        "6 : 278 ,\n",
        "7 : 291,\n",
        "8 : 220 * 1.5 + 304 * 0.2 + 295 * 0.2,\n",
        "9 : 304,\n",
        "10 : 295,\n",
        "11 : 302,\n",
        "12 : 297\n",
        "}\n",
        "\n",
        "st_q10 = {\n",
        "\n",
        "1 : 2600,\n",
        "2 : 2600,\n",
        "3 : 2600,\n",
        "4 : 2600,\n",
        "5 : 2600,\n",
        "6 : 2600,\n",
        "7 : 2600,\n",
        "8 : 2340,\n",
        "9 : 2600,\n",
        "10 : 2600,\n",
        "11 : 2600,\n",
        "12 : 2600\n",
        "}"
      ],
      "metadata": {
        "id": "5IC7QM_BNfix"
      },
      "id": "5IC7QM_BNfix",
      "execution_count": null,
      "outputs": []
    },
    {
      "cell_type": "code",
      "source": [
        "Tsales_q10 = lpSum(st_q10[i] * demand_q10[i] for i in months)\n",
        "\n",
        "model10 = LpProblem(\"Aggregate-Planning-Problem\", LpMaximize)\n",
        "model10 += Tsales_q10 - Tlabor - Tinv - Tovertime - Tprod"
      ],
      "metadata": {
        "id": "Lz5VPcm_NxKx"
      },
      "id": "Lz5VPcm_NxKx",
      "execution_count": null,
      "outputs": []
    },
    {
      "cell_type": "code",
      "source": [
        "for i in months_inventory:\n",
        "\n",
        "    if i == 0:\n",
        "        model10 += inventory_vars[i] == 150,  f\"Inventory Balance {i}\"\n",
        "        model10 += inventory_vars[i+1] == inventory_vars[i] + production_vars[i + 1] - demand[i + 1]\n",
        "    elif i == 12:\n",
        "        model10 += inventory_vars[i] == 150,  f\"Inventory Balance {i}\"\n",
        "    else:\n",
        "        model10 += inventory_vars[i + 1] == inventory_vars[i] + production_vars[i+1] - demand_q3[i+1], f\"Inventory Balance {i}\"\n",
        "\n",
        "for i in months:\n",
        "    model10 += production_vars[i] == regular_hours[i] + overtime_hours[i], f\"Production Workforce Relation {i}\"\n",
        "\n",
        "\n",
        "for i in months:\n",
        "    if i != 12:\n",
        "        model10 += inventory_vars[i] >= 100, f\"Intermediate Inventory Level {i}\"\n",
        "\n",
        "for i in months:\n",
        "    model10 += regular_hours[i] <= 320, f\"Workforce Balance {i}\"\n",
        "\n",
        "for i in months:\n",
        "    model10 += 40 >= overtime_hours[i], f\"Overtime {i}\""
      ],
      "metadata": {
        "id": "4nZ9hxt7OOUN"
      },
      "id": "4nZ9hxt7OOUN",
      "execution_count": null,
      "outputs": []
    },
    {
      "cell_type": "code",
      "source": [
        "model10.solve()\n",
        "LpStatus[model10.status]"
      ],
      "metadata": {
        "colab": {
          "base_uri": "https://localhost:8080/",
          "height": 36
        },
        "id": "sozWYxECORpC",
        "outputId": "2353bd96-4766-42d7-b016-0acede408af6"
      },
      "id": "sozWYxECORpC",
      "execution_count": null,
      "outputs": [
        {
          "output_type": "execute_result",
          "data": {
            "text/plain": [
              "'Optimal'"
            ],
            "application/vnd.google.colaboratory.intrinsic+json": {
              "type": "string"
            }
          },
          "metadata": {},
          "execution_count": 760
        }
      ]
    },
    {
      "cell_type": "code",
      "source": [
        "for v in model10.variables():\n",
        "    print(v.name, \"=\", v.varValue)"
      ],
      "metadata": {
        "colab": {
          "base_uri": "https://localhost:8080/"
        },
        "id": "pYmKlW59OVru",
        "outputId": "ef6e9b42-5ae7-4496-ed1e-9da782a19ac4"
      },
      "id": "pYmKlW59OVru",
      "execution_count": null,
      "outputs": [
        {
          "output_type": "stream",
          "name": "stdout",
          "text": [
            "Hours_1 = 320.0\n",
            "Hours_10 = 304.0\n",
            "Hours_11 = 320.0\n",
            "Hours_12 = 320.0\n",
            "Hours_2 = 320.0\n",
            "Hours_3 = 320.0\n",
            "Hours_4 = 320.0\n",
            "Hours_5 = 228.0\n",
            "Hours_6 = 222.4\n",
            "Hours_7 = 291.0\n",
            "Hours_8 = 220.0\n",
            "Hours_9 = 304.0\n",
            "Inventory_0 = 150.0\n",
            "Inventory_1 = 190.0\n",
            "Inventory_10 = 109.0\n",
            "Inventory_11 = 127.0\n",
            "Inventory_12 = 150.0\n",
            "Inventory_2 = 234.6\n",
            "Inventory_3 = 317.6\n",
            "Inventory_4 = 100.0\n",
            "Inventory_5 = 100.0\n",
            "Inventory_6 = 100.0\n",
            "Inventory_7 = 100.0\n",
            "Inventory_8 = 100.0\n",
            "Inventory_9 = 100.0\n",
            "Overtime_1 = 0.0\n",
            "Overtime_10 = 0.0\n",
            "Overtime_11 = 0.0\n",
            "Overtime_12 = 0.0\n",
            "Overtime_2 = 25.6\n",
            "Overtime_3 = 40.0\n",
            "Overtime_4 = 40.0\n",
            "Overtime_5 = 0.0\n",
            "Overtime_6 = 0.0\n",
            "Overtime_7 = 0.0\n",
            "Overtime_8 = 0.0\n",
            "Overtime_9 = 0.0\n",
            "Production_1 = 320.0\n",
            "Production_10 = 304.0\n",
            "Production_11 = 320.0\n",
            "Production_12 = 320.0\n",
            "Production_2 = 345.6\n",
            "Production_3 = 360.0\n",
            "Production_4 = 360.0\n",
            "Production_5 = 228.0\n",
            "Production_6 = 222.4\n",
            "Production_7 = 291.0\n",
            "Production_8 = 220.0\n",
            "Production_9 = 304.0\n"
          ]
        }
      ]
    },
    {
      "cell_type": "code",
      "source": [
        "print(\"Optimal objective function value = \", value(model10.objective))"
      ],
      "metadata": {
        "colab": {
          "base_uri": "https://localhost:8080/"
        },
        "id": "xaQ5i815OZiB",
        "outputId": "83fb2e51-4713-415a-bdb5-3ef583022c3b"
      },
      "id": "xaQ5i815OZiB",
      "execution_count": null,
      "outputs": [
        {
          "output_type": "stream",
          "name": "stdout",
          "text": [
            "Optimal objective function value =  1590912.0\n"
          ]
        }
      ]
    },
    {
      "cell_type": "markdown",
      "source": [
        "# Question 13 - 5"
      ],
      "metadata": {
        "id": "ovoCCSRBQIdB"
      },
      "id": "ovoCCSRBQIdB"
    },
    {
      "cell_type": "markdown",
      "source": [
        "$$\n",
        "\\text{Parameter Update}\n",
        "$$\n",
        "\n",
        "$$\n",
        "s_t = $2600\n",
        "$$\n",
        "\n",
        "$$\n",
        "b_t = \\text{ subcontracting cost in month t }\n",
        "$$\n",
        "\n",
        "$$\n",
        "b_t = $2300\n",
        "$$\n",
        "\n",
        "$$\n",
        "\\text{New Decision Variable}\n",
        "$$\n",
        "\n",
        "$$\n",
        "B_t : \\text{subcontracted amount in month t}\n",
        "$$\n"
      ],
      "metadata": {
        "id": "P4FYPC8XQ-Vx"
      },
      "id": "P4FYPC8XQ-Vx"
    },
    {
      "cell_type": "markdown",
      "source": [
        "\n",
        "$$\n",
        "New Model\n",
        "$$\n",
        "\n",
        "$$\n",
        "\\max \\sum s_t ⋅ D_T - c_t \\cdot I_t - r_t \\cdot R_t - o_t \\cdot O_t - p_t \\cdot P_t - b_t \\cdot B_t\n",
        "$$\n",
        "\n",
        "$$\n",
        "s.t.\n",
        "$$\n",
        "\n",
        "\n",
        "$$\n",
        "I_t = I_{t-1} + P_t - D_t\n",
        "$$\n",
        "\n",
        "$$\n",
        "P_t = R_t + O_t\n",
        "$$\n",
        "\n",
        "$$\n",
        "I_0 = 150\n",
        "$$\n",
        "\n",
        "$$\n",
        "I_{12} = 150\n",
        "$$\n",
        "\n",
        "$$\n",
        "I_t \\geq 100 \\quad \\text{for} \\quad t \\in \\{1, 2, 3, \\dots, 11\\}\n",
        "$$\n",
        "\n",
        "$$\n",
        "R_t \\leq 320\n",
        "$$\n",
        "\n",
        "$$\n",
        "O_t \\leq 40\n",
        "$$\n",
        "\n",
        "\n",
        "\n",
        "\n",
        "$$\n",
        "R_t, I_t, P_t, O_t, B_t\\geq 0\n",
        "$$\n",
        "\n"
      ],
      "metadata": {
        "id": "ut7tjpu0Oc0A"
      },
      "id": "ut7tjpu0Oc0A"
    },
    {
      "cell_type": "code",
      "source": [
        "demand_13_5= {\n",
        "\n",
        "1 : 280,\n",
        "2: 301,\n",
        "3 : 277,\n",
        "4: 310 * 0.5,\n",
        "5 : 285,\n",
        "6 : 278,\n",
        "7 : 291,\n",
        "8 : 220,\n",
        "9 : 304,\n",
        "10 : 295,\n",
        "11 : 302,\n",
        "12 : 297\n",
        "}"
      ],
      "metadata": {
        "id": "swDQAcIEOb-Z"
      },
      "id": "swDQAcIEOb-Z",
      "execution_count": null,
      "outputs": []
    },
    {
      "cell_type": "code",
      "source": [
        "# bt\n",
        "buying_cost = 2300 # we called it buying cost to not confuse it with the sales price st\n",
        "\n",
        "# Bt\n",
        "buying_vars = LpVariable.dicts(\"Buying\", months, 0)\n",
        "\n",
        "Tbuying   = lpSum(buying_cost * buying_vars[i] for i in months) # monthly bought quantities from new supplier\n",
        "\n",
        "Tsales_13_5 = lpSum(2600 * demand_13_5[i] for i in months)\n",
        "\n",
        "model13_5 = LpProblem(\"Aggregate-Planning-Problem\", LpMaximize)\n",
        "\n",
        "model13_5 += Tsales_13_5 - Tlabor - Tinv - Tovertime - Tprod - Tbuying\n"
      ],
      "metadata": {
        "id": "U7Qup6VQQa2z"
      },
      "id": "U7Qup6VQQa2z",
      "execution_count": null,
      "outputs": []
    },
    {
      "cell_type": "code",
      "source": [
        "for i in months_inventory:\n",
        "\n",
        "    if i == 0:\n",
        "        model13_5 += inventory_vars[i] == 150,  f\"Inventory Balance {i}\"\n",
        "        model13_5 += inventory_vars[i+1] == inventory_vars[i] + production_vars[i + 1] + buying_vars[i+1] - demand_13_5[i + 1]\n",
        "    elif i == 12:\n",
        "        model13_5 += inventory_vars[i] == 150,  f\"Inventory Balance {i}\"\n",
        "    else:\n",
        "        model13_5 += inventory_vars[i + 1] == inventory_vars[i] + production_vars[i+1] + buying_vars[i+1] - demand_13_5[i+1], f\"Inventory Balance {i}\"\n",
        "\n",
        "for i in months:\n",
        "    model13_5 += production_vars[i] == regular_hours[i] + overtime_hours[i], f\"Production Workforce Relation {i}\"\n",
        "\n",
        "for i in months:\n",
        "    if i != 12:\n",
        "        model13_5 += inventory_vars[i] >= 100, f\"Intermediate Inventory Level {i}\"\n",
        "\n",
        "for i in months:\n",
        "    model13_5 += regular_hours[i] <= 320, f\"Workforce Balance {i}\"\n",
        "\n",
        "for i in months:\n",
        "    model13_5 += 40 >= overtime_hours[i], f\"Overtime {i}\""
      ],
      "metadata": {
        "id": "0AFUBrutRIcv"
      },
      "id": "0AFUBrutRIcv",
      "execution_count": null,
      "outputs": []
    },
    {
      "cell_type": "code",
      "source": [
        "model13_5.solve()\n",
        "print(\"Optimal objective function value = \", value(model13_5.objective))\n",
        "LpStatus[model13_5.status]"
      ],
      "metadata": {
        "colab": {
          "base_uri": "https://localhost:8080/",
          "height": 53
        },
        "id": "rQGdr4FPRMLW",
        "outputId": "21fcd468-3ffc-421b-a935-9bcec9e02c45"
      },
      "id": "rQGdr4FPRMLW",
      "execution_count": null,
      "outputs": [
        {
          "output_type": "stream",
          "name": "stdout",
          "text": [
            "Optimal objective function value =  1827400.0\n"
          ]
        },
        {
          "output_type": "execute_result",
          "data": {
            "text/plain": [
              "'Optimal'"
            ],
            "application/vnd.google.colaboratory.intrinsic+json": {
              "type": "string"
            }
          },
          "metadata": {},
          "execution_count": 766
        }
      ]
    },
    {
      "cell_type": "code",
      "source": [
        "for v in model13_5.variables():\n",
        "    print(v.name, \"=\", v.varValue)"
      ],
      "metadata": {
        "colab": {
          "base_uri": "https://localhost:8080/"
        },
        "id": "OJU3WsXzRPB3",
        "outputId": "201a0df4-46f6-4398-a7a8-a58da3b76041"
      },
      "id": "OJU3WsXzRPB3",
      "execution_count": null,
      "outputs": [
        {
          "output_type": "stream",
          "name": "stdout",
          "text": [
            "Buying_1 = 0.0\n",
            "Buying_10 = 0.0\n",
            "Buying_11 = 0.0\n",
            "Buying_12 = 0.0\n",
            "Buying_2 = 0.0\n",
            "Buying_3 = 0.0\n",
            "Buying_4 = 0.0\n",
            "Buying_5 = 0.0\n",
            "Buying_6 = 0.0\n",
            "Buying_7 = 0.0\n",
            "Buying_8 = 0.0\n",
            "Buying_9 = 0.0\n",
            "Hours_1 = 230.0\n",
            "Hours_10 = 304.0\n",
            "Hours_11 = 320.0\n",
            "Hours_12 = 320.0\n",
            "Hours_2 = 301.0\n",
            "Hours_3 = 277.0\n",
            "Hours_4 = 155.0\n",
            "Hours_5 = 285.0\n",
            "Hours_6 = 278.0\n",
            "Hours_7 = 291.0\n",
            "Hours_8 = 220.0\n",
            "Hours_9 = 304.0\n",
            "Inventory_0 = 150.0\n",
            "Inventory_1 = 100.0\n",
            "Inventory_10 = 109.0\n",
            "Inventory_11 = 127.0\n",
            "Inventory_12 = 150.0\n",
            "Inventory_2 = 100.0\n",
            "Inventory_3 = 100.0\n",
            "Inventory_4 = 100.0\n",
            "Inventory_5 = 100.0\n",
            "Inventory_6 = 100.0\n",
            "Inventory_7 = 100.0\n",
            "Inventory_8 = 100.0\n",
            "Inventory_9 = 100.0\n",
            "Overtime_1 = 0.0\n",
            "Overtime_10 = 0.0\n",
            "Overtime_11 = 0.0\n",
            "Overtime_12 = 0.0\n",
            "Overtime_2 = 0.0\n",
            "Overtime_3 = 0.0\n",
            "Overtime_4 = 0.0\n",
            "Overtime_5 = 0.0\n",
            "Overtime_6 = 0.0\n",
            "Overtime_7 = 0.0\n",
            "Overtime_8 = 0.0\n",
            "Overtime_9 = 0.0\n",
            "Production_1 = 230.0\n",
            "Production_10 = 304.0\n",
            "Production_11 = 320.0\n",
            "Production_12 = 320.0\n",
            "Production_2 = 301.0\n",
            "Production_3 = 277.0\n",
            "Production_4 = 155.0\n",
            "Production_5 = 285.0\n",
            "Production_6 = 278.0\n",
            "Production_7 = 291.0\n",
            "Production_8 = 220.0\n",
            "Production_9 = 304.0\n"
          ]
        }
      ]
    },
    {
      "cell_type": "markdown",
      "source": [
        "# Question 13 - 6"
      ],
      "metadata": {
        "id": "Rrf8TnVkRSOg"
      },
      "id": "Rrf8TnVkRSOg"
    },
    {
      "cell_type": "code",
      "source": [
        "demand_13_6 = {\n",
        "\n",
        "1 : 280,\n",
        "2 : 301,\n",
        "3 : 277,\n",
        "4 : 310 * 1.5 + 285 * 0.2 + 278 * 0.2,\n",
        "5 : 285 * 0.8,\n",
        "6 : 278 * 0.8,\n",
        "7 : 291,\n",
        "8 : 220,\n",
        "9 : 304,\n",
        "10 : 295,\n",
        "11 : 302,\n",
        "12 : 297\n",
        "}\n",
        "\n",
        "st_13_6 = {\n",
        "\n",
        "1 : 2600,\n",
        "2 : 2600,\n",
        "3 : 2600,\n",
        "4 : 2340,\n",
        "5 : 2600,\n",
        "6 : 2600,\n",
        "7 : 2600,\n",
        "8 : 2600,\n",
        "9 : 2600,\n",
        "10 : 2600,\n",
        "11 : 2600,\n",
        "12 : 2600\n",
        "}"
      ],
      "metadata": {
        "id": "6ZAHCgYJRTdE"
      },
      "id": "6ZAHCgYJRTdE",
      "execution_count": null,
      "outputs": []
    },
    {
      "cell_type": "code",
      "source": [
        "# bt\n",
        "buying_cost = 2300\n",
        "\n",
        "# Bt\n",
        "buying_vars = LpVariable.dicts(\"Buying\", months, 0)\n",
        "\n",
        "Tbuying   = lpSum(buying_cost * buying_vars[i] for i in months) # monthly bought quantities from new supplier\n",
        "\n",
        "Tsales_13_6 = lpSum(st_13_6[i] * demand_13_6[i] for i in months)\n",
        "\n",
        "model13_6 = LpProblem(\"Aggregate-Planning-Problem\", LpMaximize)\n",
        "\n",
        "model13_6 += Tsales_13_6 - Tlabor - Tinv - Tovertime - Tprod - Tbuying\n"
      ],
      "metadata": {
        "id": "ChGga2NpRWC7"
      },
      "id": "ChGga2NpRWC7",
      "execution_count": null,
      "outputs": []
    },
    {
      "cell_type": "code",
      "source": [
        "for i in months_inventory:\n",
        "\n",
        "    if i == 0:\n",
        "        model13_6 += inventory_vars[i] == 150,  f\"Inventory Balance {i}\"\n",
        "        model13_6 += inventory_vars[i+1] == inventory_vars[i] + production_vars[i + 1] + buying_vars[i+1] - demand_13_6[i + 1]\n",
        "    elif i == 12:\n",
        "        model13_6 += inventory_vars[i] == 150,  f\"Inventory Balance {i}\"\n",
        "    else:\n",
        "        model13_6 += inventory_vars[i + 1] == inventory_vars[i] + production_vars[i+1] + buying_vars[i+1] - demand_13_6[i+1], f\"Inventory Balance {i}\"\n",
        "\n",
        "for i in months:\n",
        "    model13_6 += production_vars[i] == regular_hours[i] + overtime_hours[i], f\"Production Workforce Relation {i}\"\n",
        "\n",
        "\n",
        "for i in months:\n",
        "    if i != 12:\n",
        "        model13_6 += inventory_vars[i] >= 100, f\"Intermediate Inventory Level {i}\"\n",
        "\n",
        "\n",
        "for i in months:\n",
        "    model13_6 += regular_hours[i] <= 320, f\"Workforce Balance {i}\"\n",
        "\n",
        "for i in months:\n",
        "    model13_6 += 40 >= overtime_hours[i], f\"Overtime {i}\""
      ],
      "metadata": {
        "id": "bBSOPilpRXRS"
      },
      "id": "bBSOPilpRXRS",
      "execution_count": null,
      "outputs": []
    },
    {
      "cell_type": "code",
      "source": [
        "model13_6.solve()\n",
        "print(\"Optimal objective function value = \", value(model13_6.objective))\n",
        "LpStatus[model13_6.status]"
      ],
      "metadata": {
        "colab": {
          "base_uri": "https://localhost:8080/",
          "height": 53
        },
        "id": "GRt8tsU3RbwF",
        "outputId": "7bb2ceb8-178d-4e8b-aa50-b54298e1649e"
      },
      "id": "GRt8tsU3RbwF",
      "execution_count": null,
      "outputs": [
        {
          "output_type": "stream",
          "name": "stdout",
          "text": [
            "Optimal objective function value =  1796444.0\n"
          ]
        },
        {
          "output_type": "execute_result",
          "data": {
            "text/plain": [
              "'Optimal'"
            ],
            "application/vnd.google.colaboratory.intrinsic+json": {
              "type": "string"
            }
          },
          "metadata": {},
          "execution_count": 771
        }
      ]
    },
    {
      "cell_type": "code",
      "source": [
        "for v in model13_6.variables():\n",
        "    print(v.name, \"=\", v.varValue)"
      ],
      "metadata": {
        "colab": {
          "base_uri": "https://localhost:8080/"
        },
        "id": "r6JBg4BfRcoN",
        "outputId": "3a47a996-3862-43bb-adfe-32d8ddfd3ba6"
      },
      "id": "r6JBg4BfRcoN",
      "execution_count": null,
      "outputs": [
        {
          "output_type": "stream",
          "name": "stdout",
          "text": [
            "Buying_1 = 0.0\n",
            "Buying_10 = 0.0\n",
            "Buying_11 = 0.0\n",
            "Buying_12 = 0.0\n",
            "Buying_2 = 0.0\n",
            "Buying_3 = 0.0\n",
            "Buying_4 = 195.6\n",
            "Buying_5 = 0.0\n",
            "Buying_6 = 0.0\n",
            "Buying_7 = 0.0\n",
            "Buying_8 = 0.0\n",
            "Buying_9 = 0.0\n",
            "Hours_1 = 230.0\n",
            "Hours_10 = 304.0\n",
            "Hours_11 = 320.0\n",
            "Hours_12 = 320.0\n",
            "Hours_2 = 320.0\n",
            "Hours_3 = 320.0\n",
            "Hours_4 = 320.0\n",
            "Hours_5 = 228.0\n",
            "Hours_6 = 222.4\n",
            "Hours_7 = 291.0\n",
            "Hours_8 = 220.0\n",
            "Hours_9 = 304.0\n",
            "Inventory_0 = 150.0\n",
            "Inventory_1 = 100.0\n",
            "Inventory_10 = 109.0\n",
            "Inventory_11 = 127.0\n",
            "Inventory_12 = 150.0\n",
            "Inventory_2 = 119.0\n",
            "Inventory_3 = 162.0\n",
            "Inventory_4 = 100.0\n",
            "Inventory_5 = 100.0\n",
            "Inventory_6 = 100.0\n",
            "Inventory_7 = 100.0\n",
            "Inventory_8 = 100.0\n",
            "Inventory_9 = 100.0\n",
            "Overtime_1 = 0.0\n",
            "Overtime_10 = 0.0\n",
            "Overtime_11 = 0.0\n",
            "Overtime_12 = 0.0\n",
            "Overtime_2 = 0.0\n",
            "Overtime_3 = 0.0\n",
            "Overtime_4 = 0.0\n",
            "Overtime_5 = 0.0\n",
            "Overtime_6 = 0.0\n",
            "Overtime_7 = 0.0\n",
            "Overtime_8 = 0.0\n",
            "Overtime_9 = 0.0\n",
            "Production_1 = 230.0\n",
            "Production_10 = 304.0\n",
            "Production_11 = 320.0\n",
            "Production_12 = 320.0\n",
            "Production_2 = 320.0\n",
            "Production_3 = 320.0\n",
            "Production_4 = 320.0\n",
            "Production_5 = 228.0\n",
            "Production_6 = 222.4\n",
            "Production_7 = 291.0\n",
            "Production_8 = 220.0\n",
            "Production_9 = 304.0\n"
          ]
        }
      ]
    },
    {
      "cell_type": "markdown",
      "source": [
        "# Question 13 - 7"
      ],
      "metadata": {
        "id": "EZPn1CqXRiGz"
      },
      "id": "EZPn1CqXRiGz"
    },
    {
      "cell_type": "code",
      "source": [
        "demand_13_7 = {\n",
        "\n",
        "1 : 280,\n",
        "2 : 301,\n",
        "3 : 277,\n",
        "4 : 310 + 285 * 0.25 + 278 * 0.25,\n",
        "5 : 285 * 0.75,\n",
        "6 : 278 * 0.75,\n",
        "7 : 291,\n",
        "8 : 220,\n",
        "9 : 304,\n",
        "10 : 295,\n",
        "11 : 302,\n",
        "12 : 297\n",
        "}\n",
        "\n",
        "st_13_7 = {\n",
        "\n",
        "1 : 2600,\n",
        "2 : 2600,\n",
        "3 : 2600,\n",
        "4 : 2340,\n",
        "5 : 2600,\n",
        "6 : 2600,\n",
        "7 : 2600,\n",
        "8 : 2600,\n",
        "9 : 2600,\n",
        "10 : 2600,\n",
        "11 : 2600,\n",
        "12 : 2600\n",
        "}"
      ],
      "metadata": {
        "id": "-qf2eS8EReBP"
      },
      "id": "-qf2eS8EReBP",
      "execution_count": null,
      "outputs": []
    },
    {
      "cell_type": "code",
      "source": [
        "# bt\n",
        "buying_cost = 2300\n",
        "\n",
        "# Bt\n",
        "buying_vars = LpVariable.dicts(\"Buying\", months, 0)\n",
        "\n",
        "Tbuying   = lpSum(buying_cost * buying_vars[i] for i in months) # monthly bought quantities from new supplier\n",
        "\n",
        "Tsales_13_7 = lpSum(st_13_7[i] * demand_13_7[i] for i in months)\n",
        "\n",
        "model13_7 = LpProblem(\"Aggregate-Planning-Problem\", LpMaximize)\n",
        "\n",
        "model13_7 += Tsales_13_7 - Tlabor - Tinv - Tovertime - Tprod - Tbuying\n",
        "\n"
      ],
      "metadata": {
        "id": "hwgE4fcsRlFQ"
      },
      "id": "hwgE4fcsRlFQ",
      "execution_count": null,
      "outputs": []
    },
    {
      "cell_type": "code",
      "source": [
        "for i in months_inventory:\n",
        "\n",
        "    if i == 0:\n",
        "        model13_7 += inventory_vars[i] == 150,  f\"Inventory Balance {i}\"\n",
        "        model13_7 += inventory_vars[i+1] == inventory_vars[i] + production_vars[i + 1] + buying_vars[i+1] - demand_13_7[i + 1]\n",
        "    elif i == 12:\n",
        "        model13_7 += inventory_vars[i] == 150,  f\"Inventory Balance {i}\"\n",
        "    else:\n",
        "        model13_7 += inventory_vars[i + 1] == inventory_vars[i] + production_vars[i+1] + buying_vars[i+1] - demand_13_7[i+1], f\"Inventory Balance {i}\"\n",
        "\n",
        "for i in months:\n",
        "    model13_7 += production_vars[i] == regular_hours[i] + overtime_hours[i], f\"Production Workforce Relation {i}\"\n",
        "\n",
        "for i in months:\n",
        "    if i != 12:\n",
        "        model13_7 += inventory_vars[i] >= 100, f\"Intermediate Inventory Level {i}\"\n",
        "\n",
        "for i in months:\n",
        "    model13_7 += regular_hours[i] <= 320, f\"Workforce Balance {i}\"\n",
        "\n",
        "for i in months:\n",
        "    model13_7 += 40 >= overtime_hours[i], f\"Overtime {i}\""
      ],
      "metadata": {
        "id": "1UXWKWzARm_k"
      },
      "id": "1UXWKWzARm_k",
      "execution_count": null,
      "outputs": []
    },
    {
      "cell_type": "code",
      "source": [
        "model13_7.solve()\n",
        "print(\"Optimal objective function value = \", value(model13_7.objective))\n",
        "LpStatus[model13_7.status]"
      ],
      "metadata": {
        "colab": {
          "base_uri": "https://localhost:8080/",
          "height": 53
        },
        "id": "urz93PhYRpQM",
        "outputId": "1e30a25f-af9d-4854-aeb6-cc2268ae103a"
      },
      "id": "urz93PhYRpQM",
      "execution_count": null,
      "outputs": [
        {
          "output_type": "stream",
          "name": "stdout",
          "text": [
            "Optimal objective function value =  1774480.0\n"
          ]
        },
        {
          "output_type": "execute_result",
          "data": {
            "text/plain": [
              "'Optimal'"
            ],
            "application/vnd.google.colaboratory.intrinsic+json": {
              "type": "string"
            }
          },
          "metadata": {},
          "execution_count": 776
        }
      ]
    },
    {
      "cell_type": "code",
      "source": [
        "for v in model13_7.variables():\n",
        "    print(v.name, \"=\", v.varValue)"
      ],
      "metadata": {
        "colab": {
          "base_uri": "https://localhost:8080/"
        },
        "id": "JrAE6zAjRpk2",
        "outputId": "3757b113-1e6e-46b2-cc3a-d7951f6a1304"
      },
      "id": "JrAE6zAjRpk2",
      "execution_count": null,
      "outputs": [
        {
          "output_type": "stream",
          "name": "stdout",
          "text": [
            "Buying_1 = 0.0\n",
            "Buying_10 = 0.0\n",
            "Buying_11 = 0.0\n",
            "Buying_12 = 0.0\n",
            "Buying_2 = 0.0\n",
            "Buying_3 = 0.0\n",
            "Buying_4 = 68.75\n",
            "Buying_5 = 0.0\n",
            "Buying_6 = 0.0\n",
            "Buying_7 = 0.0\n",
            "Buying_8 = 0.0\n",
            "Buying_9 = 0.0\n",
            "Hours_1 = 230.0\n",
            "Hours_10 = 304.0\n",
            "Hours_11 = 320.0\n",
            "Hours_12 = 320.0\n",
            "Hours_2 = 320.0\n",
            "Hours_3 = 320.0\n",
            "Hours_4 = 320.0\n",
            "Hours_5 = 213.75\n",
            "Hours_6 = 208.5\n",
            "Hours_7 = 291.0\n",
            "Hours_8 = 220.0\n",
            "Hours_9 = 304.0\n",
            "Inventory_0 = 150.0\n",
            "Inventory_1 = 100.0\n",
            "Inventory_10 = 109.0\n",
            "Inventory_11 = 127.0\n",
            "Inventory_12 = 150.0\n",
            "Inventory_2 = 119.0\n",
            "Inventory_3 = 162.0\n",
            "Inventory_4 = 100.0\n",
            "Inventory_5 = 100.0\n",
            "Inventory_6 = 100.0\n",
            "Inventory_7 = 100.0\n",
            "Inventory_8 = 100.0\n",
            "Inventory_9 = 100.0\n",
            "Overtime_1 = 0.0\n",
            "Overtime_10 = 0.0\n",
            "Overtime_11 = 0.0\n",
            "Overtime_12 = 0.0\n",
            "Overtime_2 = 0.0\n",
            "Overtime_3 = 0.0\n",
            "Overtime_4 = 0.0\n",
            "Overtime_5 = 0.0\n",
            "Overtime_6 = 0.0\n",
            "Overtime_7 = 0.0\n",
            "Overtime_8 = 0.0\n",
            "Overtime_9 = 0.0\n",
            "Production_1 = 230.0\n",
            "Production_10 = 304.0\n",
            "Production_11 = 320.0\n",
            "Production_12 = 320.0\n",
            "Production_2 = 320.0\n",
            "Production_3 = 320.0\n",
            "Production_4 = 320.0\n",
            "Production_5 = 213.75\n",
            "Production_6 = 208.5\n",
            "Production_7 = 291.0\n",
            "Production_8 = 220.0\n",
            "Production_9 = 304.0\n"
          ]
        }
      ]
    },
    {
      "cell_type": "markdown",
      "source": [
        "# Question 13 - 8\n"
      ],
      "metadata": {
        "id": "RuXD4-HiRsM-"
      },
      "id": "RuXD4-HiRsM-"
    },
    {
      "cell_type": "code",
      "source": [
        "demand_13_8 = {\n",
        "\n",
        "1 : 280,\n",
        "2 : 301,\n",
        "3 : 277,\n",
        "4 : 310,\n",
        "5 : 285,\n",
        "6 : 278,\n",
        "7 : 291,\n",
        "8 : 220 + 304 * 0.25 + 295 * 0.25,\n",
        "9 : 304 * 0.75,\n",
        "10 : 295 * 0.75,\n",
        "11 : 302,\n",
        "12 : 297\n",
        "}\n",
        "\n",
        "st_13_8 = {\n",
        "\n",
        "1 : 2600,\n",
        "2 : 2600,\n",
        "3 : 2600,\n",
        "4 : 2600,\n",
        "5 : 2600,\n",
        "6 : 2600,\n",
        "7 : 2600,\n",
        "8 : 2340,\n",
        "9 : 2600,\n",
        "10 : 2600,\n",
        "11 : 2600,\n",
        "12 : 2600\n",
        "}"
      ],
      "metadata": {
        "id": "Y-XbkWsjRqs9"
      },
      "id": "Y-XbkWsjRqs9",
      "execution_count": null,
      "outputs": []
    },
    {
      "cell_type": "code",
      "source": [
        "# bt\n",
        "buying_cost = 2300\n",
        "\n",
        "# Bt\n",
        "buying_vars = LpVariable.dicts(\"Buying\", months, 0)\n",
        "\n",
        "Tbuying   = lpSum(buying_cost * buying_vars[i] for i in months) # monthly bought quantities from new supplier\n",
        "\n",
        "Tsales_13_8 = lpSum(st_13_8[i] * demand_13_8[i] for i in months)\n",
        "\n",
        "model13_8 = LpProblem(\"Aggregate-Planning-Problem\", LpMaximize)\n",
        "\n",
        "model13_8 += Tsales_13_8 - Tlabor - Tinv - Tovertime - Tprod - Tbuying\n"
      ],
      "metadata": {
        "id": "qQsH2flORuUy"
      },
      "id": "qQsH2flORuUy",
      "execution_count": null,
      "outputs": []
    },
    {
      "cell_type": "code",
      "source": [
        "for i in months_inventory:\n",
        "\n",
        "    if i == 0:\n",
        "        model13_8 += inventory_vars[i] == 150,  f\"Inventory Balance {i}\"\n",
        "        model13_8 += inventory_vars[i+1] == inventory_vars[i] + production_vars[i + 1] + buying_vars[i+1] - demand_13_8[i + 1]\n",
        "    elif i == 12:\n",
        "        model13_8 += inventory_vars[i] == 150,  f\"Inventory Balance {i}\"\n",
        "    else:\n",
        "        model13_8 += inventory_vars[i + 1] == inventory_vars[i] + production_vars[i+1] + buying_vars[i+1] - demand_13_8[i+1], f\"Inventory Balance {i}\"\n",
        "\n",
        "for i in months:\n",
        "    model13_8 += production_vars[i] == regular_hours[i] + overtime_hours[i], f\"Production Workforce Relation {i}\"\n",
        "\n",
        "for i in months:\n",
        "    if i != 12:\n",
        "        model13_8 += inventory_vars[i] >= 100, f\"Intermediate Inventory Level {i}\"\n",
        "\n",
        "\n",
        "for i in months:\n",
        "    model13_8 += regular_hours[i] <= 320, f\"Workforce Balance {i}\"\n",
        "\n",
        "for i in months:\n",
        "    model13_8 += 40 >= overtime_hours[i], f\"Overtime {i}\""
      ],
      "metadata": {
        "id": "U2h5auDFRwI3"
      },
      "id": "U2h5auDFRwI3",
      "execution_count": null,
      "outputs": []
    },
    {
      "cell_type": "code",
      "source": [
        "model13_8.solve()\n",
        "print(\"Optimal objective function value = \", value(model13_8.objective))\n",
        "LpStatus[model13_8.status]"
      ],
      "metadata": {
        "colab": {
          "base_uri": "https://localhost:8080/",
          "height": 53
        },
        "id": "Z_dKis0WRyVw",
        "outputId": "26fc9f85-60b0-4002-d486-146c6507dbd6"
      },
      "id": "Z_dKis0WRyVw",
      "execution_count": null,
      "outputs": [
        {
          "output_type": "stream",
          "name": "stdout",
          "text": [
            "Optimal objective function value =  1817215.0\n"
          ]
        },
        {
          "output_type": "execute_result",
          "data": {
            "text/plain": [
              "'Optimal'"
            ],
            "application/vnd.google.colaboratory.intrinsic+json": {
              "type": "string"
            }
          },
          "metadata": {},
          "execution_count": 781
        }
      ]
    },
    {
      "cell_type": "code",
      "source": [
        "for v in model13_8.variables():\n",
        "    print(v.name, \"=\", v.varValue)"
      ],
      "metadata": {
        "colab": {
          "base_uri": "https://localhost:8080/"
        },
        "id": "ngMypORNRyr4",
        "outputId": "7ac8dfda-27a0-451e-89ad-392d2e867789"
      },
      "id": "ngMypORNRyr4",
      "execution_count": null,
      "outputs": [
        {
          "output_type": "stream",
          "name": "stdout",
          "text": [
            "Buying_1 = 0.0\n",
            "Buying_10 = 0.0\n",
            "Buying_11 = 0.0\n",
            "Buying_12 = 0.0\n",
            "Buying_2 = 0.0\n",
            "Buying_3 = 0.0\n",
            "Buying_4 = 0.0\n",
            "Buying_5 = 0.0\n",
            "Buying_6 = 0.0\n",
            "Buying_7 = 0.0\n",
            "Buying_8 = 0.0\n",
            "Buying_9 = 0.0\n",
            "Hours_1 = 230.0\n",
            "Hours_10 = 230.25\n",
            "Hours_11 = 320.0\n",
            "Hours_12 = 320.0\n",
            "Hours_2 = 301.0\n",
            "Hours_3 = 277.0\n",
            "Hours_4 = 310.0\n",
            "Hours_5 = 285.0\n",
            "Hours_6 = 298.75\n",
            "Hours_7 = 320.0\n",
            "Hours_8 = 320.0\n",
            "Hours_9 = 228.0\n",
            "Inventory_0 = 150.0\n",
            "Inventory_1 = 100.0\n",
            "Inventory_10 = 109.0\n",
            "Inventory_11 = 127.0\n",
            "Inventory_12 = 150.0\n",
            "Inventory_2 = 100.0\n",
            "Inventory_3 = 100.0\n",
            "Inventory_4 = 100.0\n",
            "Inventory_5 = 100.0\n",
            "Inventory_6 = 120.75\n",
            "Inventory_7 = 149.75\n",
            "Inventory_8 = 100.0\n",
            "Inventory_9 = 100.0\n",
            "Overtime_1 = 0.0\n",
            "Overtime_10 = 0.0\n",
            "Overtime_11 = 0.0\n",
            "Overtime_12 = 0.0\n",
            "Overtime_2 = 0.0\n",
            "Overtime_3 = 0.0\n",
            "Overtime_4 = 0.0\n",
            "Overtime_5 = 0.0\n",
            "Overtime_6 = 0.0\n",
            "Overtime_7 = 0.0\n",
            "Overtime_8 = 0.0\n",
            "Overtime_9 = 0.0\n",
            "Production_1 = 230.0\n",
            "Production_10 = 230.25\n",
            "Production_11 = 320.0\n",
            "Production_12 = 320.0\n",
            "Production_2 = 301.0\n",
            "Production_3 = 277.0\n",
            "Production_4 = 310.0\n",
            "Production_5 = 285.0\n",
            "Production_6 = 298.75\n",
            "Production_7 = 320.0\n",
            "Production_8 = 320.0\n",
            "Production_9 = 228.0\n"
          ]
        }
      ]
    },
    {
      "cell_type": "markdown",
      "source": [
        "# Question 13-9"
      ],
      "metadata": {
        "id": "BY9dApjLR3ye"
      },
      "id": "BY9dApjLR3ye"
    },
    {
      "cell_type": "code",
      "source": [
        "# bt\n",
        "buying_cost = 2300\n",
        "\n",
        "buying_vars = LpVariable.dicts(\"Buying\", months, 0)\n",
        "\n",
        "Tsubcont = lpSum(buying_cost * buying_vars[i] for i in months)"
      ],
      "metadata": {
        "id": "0D3RuecKRz7p"
      },
      "id": "0D3RuecKRz7p",
      "execution_count": null,
      "outputs": []
    },
    {
      "cell_type": "code",
      "source": [
        "model13_9 = LpProblem(\"Aggregate-Planning-Problem\", LpMaximize)\n",
        "model13_9 += Tsales_q9 - Tlabor - Tinv - Tovertime - Tprod - Tsubcont"
      ],
      "metadata": {
        "id": "jypYme0GR6V2"
      },
      "id": "jypYme0GR6V2",
      "execution_count": null,
      "outputs": []
    },
    {
      "cell_type": "code",
      "source": [
        "for i in months_inventory:\n",
        "\n",
        "    if i == 0:\n",
        "        model13_9 += inventory_vars[i] == 150,  f\"Inventory Balance {i}\"\n",
        "        model13_9 += inventory_vars[i+1] == inventory_vars[i] + production_vars[i + 1] - demand[i + 1] + buying_vars[i + 1]\n",
        "    elif i == 12:\n",
        "        model13_9 += inventory_vars[i] == 150,  f\"Inventory Balance {i}\"\n",
        "    else:\n",
        "        model13_9 += inventory_vars[i + 1] == inventory_vars[i] + production_vars[i+1] - demand_q3[i+1] + buying_vars[i + 1], f\"Inventory Balance {i}\"\n",
        "\n",
        "\n",
        "for i in months:\n",
        "    model13_9 += production_vars[i] == regular_hours[i] + overtime_hours[i], f\"Production Workforce Relation {i}\"\n",
        "\n",
        "for i in months:\n",
        "    if i != 12:\n",
        "\n",
        "        model13_9 += inventory_vars[i] >= 100, f\"Intermediate Inventory Level {i}\"\n",
        "\n",
        "for i in months:\n",
        "    model13_9 += regular_hours[i] <= 320, f\"Workforce Balance {i}\"\n",
        "\n",
        "for i in months:\n",
        "    model13_9 += 40 >= overtime_hours[i], f\"Overtime {i}\""
      ],
      "metadata": {
        "id": "5kR_0BRfR6uU"
      },
      "id": "5kR_0BRfR6uU",
      "execution_count": null,
      "outputs": []
    },
    {
      "cell_type": "code",
      "source": [
        "model13_9.solve()\n",
        "LpStatus[model13_9.status]"
      ],
      "metadata": {
        "colab": {
          "base_uri": "https://localhost:8080/",
          "height": 36
        },
        "id": "Q1iIPYtMR73k",
        "outputId": "def2a6d2-988f-42ed-8d54-0cab96c23313"
      },
      "id": "Q1iIPYtMR73k",
      "execution_count": null,
      "outputs": [
        {
          "output_type": "execute_result",
          "data": {
            "text/plain": [
              "'Optimal'"
            ],
            "application/vnd.google.colaboratory.intrinsic+json": {
              "type": "string"
            }
          },
          "metadata": {},
          "execution_count": 786
        }
      ]
    },
    {
      "cell_type": "code",
      "source": [
        "print(\"Optimal objective function value = \", value(model13_9.objective))"
      ],
      "metadata": {
        "id": "p93NiiJAR9HY",
        "colab": {
          "base_uri": "https://localhost:8080/"
        },
        "outputId": "1f866113-7ac5-4e24-a5b2-e8a5f936d6b1"
      },
      "id": "p93NiiJAR9HY",
      "execution_count": null,
      "outputs": [
        {
          "output_type": "stream",
          "name": "stdout",
          "text": [
            "Optimal objective function value =  1510444.0\n"
          ]
        }
      ]
    },
    {
      "cell_type": "code",
      "source": [
        "for v in model13_9.variables():\n",
        "    print(v.name, \"=\", v.varValue)"
      ],
      "metadata": {
        "colab": {
          "base_uri": "https://localhost:8080/"
        },
        "id": "uukEwgJrktcs",
        "outputId": "1cc3a8dc-0586-48d4-98d8-6c24964e75b5"
      },
      "id": "uukEwgJrktcs",
      "execution_count": null,
      "outputs": [
        {
          "output_type": "stream",
          "name": "stdout",
          "text": [
            "Buying_1 = 0.0\n",
            "Buying_10 = 0.0\n",
            "Buying_11 = 0.0\n",
            "Buying_12 = 0.0\n",
            "Buying_2 = 0.0\n",
            "Buying_3 = 0.0\n",
            "Buying_4 = 195.6\n",
            "Buying_5 = 0.0\n",
            "Buying_6 = 0.0\n",
            "Buying_7 = 0.0\n",
            "Buying_8 = 0.0\n",
            "Buying_9 = 0.0\n",
            "Hours_1 = 230.0\n",
            "Hours_10 = 304.0\n",
            "Hours_11 = 320.0\n",
            "Hours_12 = 320.0\n",
            "Hours_2 = 320.0\n",
            "Hours_3 = 320.0\n",
            "Hours_4 = 320.0\n",
            "Hours_5 = 228.0\n",
            "Hours_6 = 222.4\n",
            "Hours_7 = 291.0\n",
            "Hours_8 = 220.0\n",
            "Hours_9 = 304.0\n",
            "Inventory_0 = 150.0\n",
            "Inventory_1 = 100.0\n",
            "Inventory_10 = 109.0\n",
            "Inventory_11 = 127.0\n",
            "Inventory_12 = 150.0\n",
            "Inventory_2 = 119.0\n",
            "Inventory_3 = 162.0\n",
            "Inventory_4 = 100.0\n",
            "Inventory_5 = 100.0\n",
            "Inventory_6 = 100.0\n",
            "Inventory_7 = 100.0\n",
            "Inventory_8 = 100.0\n",
            "Inventory_9 = 100.0\n",
            "Overtime_1 = 0.0\n",
            "Overtime_10 = 0.0\n",
            "Overtime_11 = 0.0\n",
            "Overtime_12 = 0.0\n",
            "Overtime_2 = 0.0\n",
            "Overtime_3 = 0.0\n",
            "Overtime_4 = 0.0\n",
            "Overtime_5 = 0.0\n",
            "Overtime_6 = 0.0\n",
            "Overtime_7 = 0.0\n",
            "Overtime_8 = 0.0\n",
            "Overtime_9 = 0.0\n",
            "Production_1 = 230.0\n",
            "Production_10 = 304.0\n",
            "Production_11 = 320.0\n",
            "Production_12 = 320.0\n",
            "Production_2 = 320.0\n",
            "Production_3 = 320.0\n",
            "Production_4 = 320.0\n",
            "Production_5 = 228.0\n",
            "Production_6 = 222.4\n",
            "Production_7 = 291.0\n",
            "Production_8 = 220.0\n",
            "Production_9 = 304.0\n"
          ]
        }
      ]
    },
    {
      "cell_type": "markdown",
      "source": [
        "# Question 13-10"
      ],
      "metadata": {
        "id": "Dg7pia_SSBaP"
      },
      "id": "Dg7pia_SSBaP"
    },
    {
      "cell_type": "code",
      "source": [
        "model13_10 = LpProblem(\"Aggregate-Planning-Problem\", LpMaximize)\n",
        "model13_10 += Tsales_q10 - Tlabor - Tinv - Tovertime - Tprod - Tsubcont"
      ],
      "metadata": {
        "id": "s39cAwkTSCmQ"
      },
      "id": "s39cAwkTSCmQ",
      "execution_count": null,
      "outputs": []
    },
    {
      "cell_type": "code",
      "source": [
        "for i in months_inventory:\n",
        "\n",
        "    if i == 0:\n",
        "        model13_10 += inventory_vars[i] == 150,  f\"Inventory Balance {i}\"\n",
        "        model13_10 += inventory_vars[i+1] == inventory_vars[i] + production_vars[i + 1] - demand[i + 1] + buying_vars[i + 1]\n",
        "    elif i == 12:\n",
        "        model13_10 += inventory_vars[i] == 150,  f\"Inventory Balance {i}\"\n",
        "    else:\n",
        "        model13_10 += inventory_vars[i + 1] == inventory_vars[i] + production_vars[i+1] - demand_q3[i+1] + buying_vars[i + 1] , f\"Inventory Balance {i}\"\n",
        "\n",
        "\n",
        "for i in months:\n",
        "    model13_10 += production_vars[i] == regular_hours[i] + overtime_hours[i], f\"Production Workforce Relation {i}\"\n",
        "\n",
        "for i in months:\n",
        "    if i != 12:\n",
        "\n",
        "        model13_10 += inventory_vars[i] >= 100, f\"Intermediate Inventory Level {i}\"\n",
        "\n",
        "for i in months:\n",
        "    model13_10 += regular_hours[i] <= 320, f\"Workforce Balance {i}\"\n",
        "\n",
        "for i in months:\n",
        "    model13_10 += 40 >= overtime_hours[i], f\"Overtime {i}\""
      ],
      "metadata": {
        "id": "WckpGAJfSEhD"
      },
      "id": "WckpGAJfSEhD",
      "execution_count": null,
      "outputs": []
    },
    {
      "cell_type": "code",
      "source": [
        "model13_10.solve()\n",
        "LpStatus[model13_10.status]"
      ],
      "metadata": {
        "id": "-BCPq0pbSFDZ",
        "colab": {
          "base_uri": "https://localhost:8080/",
          "height": 36
        },
        "outputId": "a4ea19eb-196c-4081-baec-a2ad1cb3c80c"
      },
      "id": "-BCPq0pbSFDZ",
      "execution_count": null,
      "outputs": [
        {
          "output_type": "execute_result",
          "data": {
            "text/plain": [
              "'Optimal'"
            ],
            "application/vnd.google.colaboratory.intrinsic+json": {
              "type": "string"
            }
          },
          "metadata": {},
          "execution_count": 791
        }
      ]
    },
    {
      "cell_type": "code",
      "source": [
        "print(\"Optimal objective function value = \", value(model13_10.objective))"
      ],
      "metadata": {
        "id": "Tt4jau2mSGI1",
        "colab": {
          "base_uri": "https://localhost:8080/"
        },
        "outputId": "6d871c9f-e93c-41ff-a5d5-938136846910"
      },
      "id": "Tt4jau2mSGI1",
      "execution_count": null,
      "outputs": [
        {
          "output_type": "stream",
          "name": "stdout",
          "text": [
            "Optimal objective function value =  1621152.0\n"
          ]
        }
      ]
    },
    {
      "cell_type": "code",
      "source": [
        "for v in model13_10.variables():\n",
        "    print(v.name, \"=\", v.varValue)"
      ],
      "metadata": {
        "id": "4mpOua-CSHMx",
        "colab": {
          "base_uri": "https://localhost:8080/"
        },
        "outputId": "bb6da01a-1147-4500-ae0a-15e9221d1ccd"
      },
      "id": "4mpOua-CSHMx",
      "execution_count": null,
      "outputs": [
        {
          "output_type": "stream",
          "name": "stdout",
          "text": [
            "Buying_1 = 0.0\n",
            "Buying_10 = 0.0\n",
            "Buying_11 = 0.0\n",
            "Buying_12 = 0.0\n",
            "Buying_2 = 0.0\n",
            "Buying_3 = 0.0\n",
            "Buying_4 = 195.6\n",
            "Buying_5 = 0.0\n",
            "Buying_6 = 0.0\n",
            "Buying_7 = 0.0\n",
            "Buying_8 = 0.0\n",
            "Buying_9 = 0.0\n",
            "Hours_1 = 230.0\n",
            "Hours_10 = 304.0\n",
            "Hours_11 = 320.0\n",
            "Hours_12 = 320.0\n",
            "Hours_2 = 320.0\n",
            "Hours_3 = 320.0\n",
            "Hours_4 = 320.0\n",
            "Hours_5 = 228.0\n",
            "Hours_6 = 222.4\n",
            "Hours_7 = 291.0\n",
            "Hours_8 = 220.0\n",
            "Hours_9 = 304.0\n",
            "Inventory_0 = 150.0\n",
            "Inventory_1 = 100.0\n",
            "Inventory_10 = 109.0\n",
            "Inventory_11 = 127.0\n",
            "Inventory_12 = 150.0\n",
            "Inventory_2 = 119.0\n",
            "Inventory_3 = 162.0\n",
            "Inventory_4 = 100.0\n",
            "Inventory_5 = 100.0\n",
            "Inventory_6 = 100.0\n",
            "Inventory_7 = 100.0\n",
            "Inventory_8 = 100.0\n",
            "Inventory_9 = 100.0\n",
            "Overtime_1 = 0.0\n",
            "Overtime_10 = 0.0\n",
            "Overtime_11 = 0.0\n",
            "Overtime_12 = 0.0\n",
            "Overtime_2 = 0.0\n",
            "Overtime_3 = 0.0\n",
            "Overtime_4 = 0.0\n",
            "Overtime_5 = 0.0\n",
            "Overtime_6 = 0.0\n",
            "Overtime_7 = 0.0\n",
            "Overtime_8 = 0.0\n",
            "Overtime_9 = 0.0\n",
            "Production_1 = 230.0\n",
            "Production_10 = 304.0\n",
            "Production_11 = 320.0\n",
            "Production_12 = 320.0\n",
            "Production_2 = 320.0\n",
            "Production_3 = 320.0\n",
            "Production_4 = 320.0\n",
            "Production_5 = 228.0\n",
            "Production_6 = 222.4\n",
            "Production_7 = 291.0\n",
            "Production_8 = 220.0\n",
            "Production_9 = 304.0\n"
          ]
        }
      ]
    },
    {
      "cell_type": "markdown",
      "source": [
        "# Additional Calculations for Question 11 & 12\n"
      ],
      "metadata": {
        "id": "c7OonXWc10xM"
      },
      "id": "c7OonXWc10xM"
    },
    {
      "cell_type": "markdown",
      "source": [
        "$$\n",
        "\\text{Parameter Update}\n",
        "$$\n",
        "\n",
        "$$\n",
        "s_t = $2600\n",
        "$$\n",
        "\n",
        "$$\n",
        "D_4 = D_4 \\times 50\\%\n",
        "$$\n"
      ],
      "metadata": {
        "id": "NM54res310xN"
      },
      "id": "NM54res310xN"
    },
    {
      "cell_type": "code",
      "source": [
        "modeladd = []"
      ],
      "metadata": {
        "id": "1SppwXtZ2C3L"
      },
      "id": "1SppwXtZ2C3L",
      "execution_count": null,
      "outputs": []
    },
    {
      "cell_type": "code",
      "source": [
        "demand_add = {\n",
        "\n",
        "1 : 280,\n",
        "2: 301,\n",
        "3 : 277,\n",
        "4: 310,\n",
        "5 : 285,\n",
        "6 : 278,\n",
        "7 : 291,\n",
        "8 : 220 * 0.5,\n",
        "9 : 304,\n",
        "10 : 295,\n",
        "11 : 302,\n",
        "12 : 297\n",
        "}"
      ],
      "metadata": {
        "id": "F-S1SPo510xN"
      },
      "execution_count": null,
      "outputs": [],
      "id": "F-S1SPo510xN"
    },
    {
      "cell_type": "code",
      "source": [
        "Tsales_add = lpSum(2600 * demand_add[i] for i in months)\n",
        "\n",
        "modeladd = LpProblem(\"Aggregate-Planning-Problem\", LpMaximize)\n",
        "modeladd += Tsales_add - Tlabor - Tinv - Tovertime - Tprod"
      ],
      "metadata": {
        "id": "EwmbOyNI10xN"
      },
      "execution_count": null,
      "outputs": [],
      "id": "EwmbOyNI10xN"
    },
    {
      "cell_type": "code",
      "source": [
        "for i in months_inventory:\n",
        "\n",
        "    if i == 0:\n",
        "        modeladd += inventory_vars[i] == 150,  f\"Inventory Balance {i}\"\n",
        "        modeladd += inventory_vars[i+1] == inventory_vars[i] + production_vars[i + 1] - demand_add[i + 1]\n",
        "    elif i == 12:\n",
        "        modeladd += inventory_vars[i] == 150,  f\"Inventory Balance {i}\"\n",
        "    else:\n",
        "        modeladd += inventory_vars[i + 1] == inventory_vars[i] + production_vars[i+1] - demand_add[i+1], f\"Inventory Balance {i}\"\n",
        "\n",
        "\n",
        "for i in months:\n",
        "    modeladd += production_vars[i] == regular_hours[i] + overtime_hours[i], f\"Production Workforce Relation {i}\"\n",
        "\n",
        "for i in months:\n",
        "    if i != 12:\n",
        "        modeladd += inventory_vars[i] >= 100, f\"Intermediate Inventory Level {i}\"\n",
        "\n",
        "for i in months:\n",
        "    modeladd += regular_hours[i] <= 320, f\"Workforce Balance {i}\"\n",
        "\n",
        "for i in months:\n",
        "    modeladd += 40 >= overtime_hours[i], f\"Overtime {i}\""
      ],
      "metadata": {
        "id": "f3hAWffg10xN"
      },
      "execution_count": null,
      "outputs": [],
      "id": "f3hAWffg10xN"
    },
    {
      "cell_type": "code",
      "source": [
        "modeladd.solve()\n",
        "print(\"Optimal objective function value = \", value(modeladd.objective))\n",
        "LpStatus[modeladd.status]"
      ],
      "metadata": {
        "colab": {
          "base_uri": "https://localhost:8080/",
          "height": 53
        },
        "outputId": "e6079276-872c-4ab3-835b-a70832eaa6a3",
        "id": "JXVSPXfc10xN"
      },
      "execution_count": null,
      "outputs": [
        {
          "output_type": "stream",
          "name": "stdout",
          "text": [
            "Optimal objective function value =  1869400.0\n"
          ]
        },
        {
          "output_type": "execute_result",
          "data": {
            "text/plain": [
              "'Optimal'"
            ],
            "application/vnd.google.colaboratory.intrinsic+json": {
              "type": "string"
            }
          },
          "metadata": {},
          "execution_count": 42
        }
      ],
      "id": "JXVSPXfc10xN"
    },
    {
      "cell_type": "code",
      "source": [
        "for v in modeladd.variables():\n",
        "    print(v.name, \"=\", v.varValue)"
      ],
      "metadata": {
        "colab": {
          "base_uri": "https://localhost:8080/"
        },
        "outputId": "25efab94-332d-4743-f002-bbd84e51c24e",
        "id": "cq_gkTFC10xN"
      },
      "execution_count": null,
      "outputs": [
        {
          "output_type": "stream",
          "name": "stdout",
          "text": [
            "Hours_1 = 230.0\n",
            "Hours_10 = 304.0\n",
            "Hours_11 = 320.0\n",
            "Hours_12 = 320.0\n",
            "Hours_2 = 301.0\n",
            "Hours_3 = 277.0\n",
            "Hours_4 = 310.0\n",
            "Hours_5 = 285.0\n",
            "Hours_6 = 278.0\n",
            "Hours_7 = 291.0\n",
            "Hours_8 = 110.0\n",
            "Hours_9 = 304.0\n",
            "Inventory_0 = 150.0\n",
            "Inventory_1 = 100.0\n",
            "Inventory_10 = 109.0\n",
            "Inventory_11 = 127.0\n",
            "Inventory_12 = 150.0\n",
            "Inventory_2 = 100.0\n",
            "Inventory_3 = 100.0\n",
            "Inventory_4 = 100.0\n",
            "Inventory_5 = 100.0\n",
            "Inventory_6 = 100.0\n",
            "Inventory_7 = 100.0\n",
            "Inventory_8 = 100.0\n",
            "Inventory_9 = 100.0\n",
            "Overtime_1 = 0.0\n",
            "Overtime_10 = 0.0\n",
            "Overtime_11 = 0.0\n",
            "Overtime_12 = 0.0\n",
            "Overtime_2 = 0.0\n",
            "Overtime_3 = 0.0\n",
            "Overtime_4 = 0.0\n",
            "Overtime_5 = 0.0\n",
            "Overtime_6 = 0.0\n",
            "Overtime_7 = 0.0\n",
            "Overtime_8 = 0.0\n",
            "Overtime_9 = 0.0\n",
            "Production_1 = 230.0\n",
            "Production_10 = 304.0\n",
            "Production_11 = 320.0\n",
            "Production_12 = 320.0\n",
            "Production_2 = 301.0\n",
            "Production_3 = 277.0\n",
            "Production_4 = 310.0\n",
            "Production_5 = 285.0\n",
            "Production_6 = 278.0\n",
            "Production_7 = 291.0\n",
            "Production_8 = 110.0\n",
            "Production_9 = 304.0\n"
          ]
        }
      ],
      "id": "cq_gkTFC10xN"
    }
  ],
  "metadata": {
    "colab": {
      "provenance": []
    },
    "kernelspec": {
      "display_name": "Python 3 (ipykernel)",
      "language": "python",
      "name": "python3"
    },
    "language_info": {
      "codemirror_mode": {
        "name": "ipython",
        "version": 3
      },
      "file_extension": ".py",
      "mimetype": "text/x-python",
      "name": "python",
      "nbconvert_exporter": "python",
      "pygments_lexer": "ipython3",
      "version": "3.11.4"
    }
  },
  "nbformat": 4,
  "nbformat_minor": 5
}