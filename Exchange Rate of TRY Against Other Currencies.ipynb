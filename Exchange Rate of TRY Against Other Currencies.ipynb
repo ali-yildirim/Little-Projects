{
 "cells": [
  {
   "cell_type": "code",
   "execution_count": 104,
   "id": "00c2f5ad",
   "metadata": {},
   "outputs": [],
   "source": [
    "import requests\n",
    "from bs4 import BeautifulSoup\n",
    "import pandas as pd"
   ]
  },
  {
   "cell_type": "code",
   "execution_count": 105,
   "id": "99ea1fb4",
   "metadata": {},
   "outputs": [],
   "source": [
    "df = pd.read_excel('Codes-of-Currencies.xlsx')\n",
    "initial_dict = df.set_index('Name of the currency')['Code'].to_dict()\n",
    "currency_dict = {key.upper(): value for key, value in initial_dict.items()}"
   ]
  },
  {
   "cell_type": "code",
   "execution_count": 106,
   "id": "c2587fb1",
   "metadata": {},
   "outputs": [
    {
     "name": "stdout",
     "output_type": "stream",
     "text": [
      "What currency you want: united states dollar\n"
     ]
    }
   ],
   "source": [
    "currency = str(input('What currency you want: '))"
   ]
  },
  {
   "cell_type": "code",
   "execution_count": 107,
   "id": "0ce38387",
   "metadata": {},
   "outputs": [],
   "source": [
    "code = currency_dict[f\"{currency.upper()}\"]"
   ]
  },
  {
   "cell_type": "code",
   "execution_count": 110,
   "id": "3a27c306",
   "metadata": {},
   "outputs": [],
   "source": [
    "url = f\"https://www.google.com/finance/quote/TRY-{code.upper()}\"\n",
    "response = requests.get(url)\n",
    "html = response.text\n",
    "soup = BeautifulSoup(html, 'html.parser')\n",
    "div_element = soup.find('div', {'data-last-price': True})\n",
    "exchange_rate = div_element['data-last-price']"
   ]
  },
  {
   "cell_type": "code",
   "execution_count": 111,
   "id": "46622bd8",
   "metadata": {},
   "outputs": [
    {
     "name": "stdout",
     "output_type": "stream",
     "text": [
      "1 TRY = 0.03615319 USD\n"
     ]
    }
   ],
   "source": [
    "print(f\"1 TRY = {exchange_rate} {code.upper()}\")"
   ]
  },
  {
   "cell_type": "code",
   "execution_count": 94,
   "id": "a64adfb7",
   "metadata": {
    "scrolled": true
   },
   "outputs": [
    {
     "data": {
      "text/plain": [
       "array([['AED', 'United Arab Emirates dirham'],\n",
       "       ['AFN', 'Afghan afghani'],\n",
       "       ['ALL', 'Albanian lek'],\n",
       "       ['AMD', 'Armenian dram'],\n",
       "       ['ANG', 'Netherlands Antillean guilder'],\n",
       "       ['AOA', 'Angolan kwanza'],\n",
       "       ['ARS', 'Argentine peso'],\n",
       "       ['AUD', 'Australian dollar'],\n",
       "       ['AWG', 'Aruban florin'],\n",
       "       ['AZN', 'Azerbaijani manat'],\n",
       "       ['BAM', 'Bosnia and Herzegovina convertible mark'],\n",
       "       ['BBD', 'Barbados dollar'],\n",
       "       ['BDT', 'Bangladeshi taka'],\n",
       "       ['BGN', 'Bulgarian lev'],\n",
       "       ['BHD', 'Bahraini dinar'],\n",
       "       ['BIF', 'Burundian franc'],\n",
       "       ['BMD', 'Bermudian dollar'],\n",
       "       ['BND', 'Brunei dollar'],\n",
       "       ['BOB', 'Boliviano'],\n",
       "       ['BOV', 'Bolivian Mvdol (funds code)'],\n",
       "       ['BRL', 'Brazilian real'],\n",
       "       ['BSD', 'Bahamian dollar'],\n",
       "       ['BTN', 'Bhutanese ngultrum'],\n",
       "       ['BWP', 'Botswana pula'],\n",
       "       ['BYN', 'Belarusian ruble'],\n",
       "       ['BZD', 'Belize dollar'],\n",
       "       ['CAD', 'Canadian dollar'],\n",
       "       ['CDF', 'Congolese franc'],\n",
       "       ['CHE', 'WIR\\xa0euro (complementary currency)'],\n",
       "       ['CHF', 'Swiss franc'],\n",
       "       ['CHW', 'WIR\\xa0franc (complementary currency)'],\n",
       "       ['CLF', 'Unidad de Fomento\\xa0(funds code)'],\n",
       "       ['CLP', 'Chilean peso'],\n",
       "       ['COP', 'Colombian peso'],\n",
       "       ['COU', 'Unidad de Valor Real (UVR) (funds code)[6]'],\n",
       "       ['CRC', 'Costa Rican colon'],\n",
       "       ['CUP', 'Cuban peso'],\n",
       "       ['CVE', 'Cape Verdean escudo'],\n",
       "       ['CZK', 'Czech koruna'],\n",
       "       ['DJF', 'Djiboutian franc'],\n",
       "       ['DKK', 'Danish krone'],\n",
       "       ['DOP', 'Dominican peso'],\n",
       "       ['DZD', 'Algerian dinar'],\n",
       "       ['EGP', 'Egyptian pound'],\n",
       "       ['ERN', 'Eritrean nakfa'],\n",
       "       ['ETB', 'Ethiopian birr'],\n",
       "       ['EUR', 'Euro'],\n",
       "       ['FJD', 'Fiji dollar'],\n",
       "       ['FKP', 'Falkland Islands pound'],\n",
       "       ['GBP', 'Pound sterling'],\n",
       "       ['GEL', 'Georgian lari'],\n",
       "       ['GHS', 'Ghanaian cedi'],\n",
       "       ['GIP', 'Gibraltar pound'],\n",
       "       ['GMD', 'Gambian dalasi'],\n",
       "       ['GNF', 'Guinean franc'],\n",
       "       ['GTQ', 'Guatemalan quetzal'],\n",
       "       ['GYD', 'Guyanese dollar'],\n",
       "       ['HKD', 'Hong Kong dollar'],\n",
       "       ['HNL', 'Honduran lempira'],\n",
       "       ['HTG', 'Haitian gourde'],\n",
       "       ['HUF', 'Hungarian forint'],\n",
       "       ['IDR', 'Indonesian rupiah'],\n",
       "       ['ILS', 'Israeli new shekel'],\n",
       "       ['INR', 'Indian rupee'],\n",
       "       ['IQD', 'Iraqi dinar'],\n",
       "       ['IRR', 'Iranian rial'],\n",
       "       ['ISK', 'Icelandic króna\\xa0(plural: krónur)'],\n",
       "       ['JMD', 'Jamaican dollar'],\n",
       "       ['JOD', 'Jordanian dinar'],\n",
       "       ['JPY', 'Japanese yen'],\n",
       "       ['KES', 'Kenyan shilling'],\n",
       "       ['KGS', 'Kyrgyzstani som'],\n",
       "       ['KHR', 'Cambodian riel'],\n",
       "       ['KMF', 'Comoro franc'],\n",
       "       ['KPW', 'North Korean won'],\n",
       "       ['KRW', 'South Korean won'],\n",
       "       ['KWD', 'Kuwaiti dinar'],\n",
       "       ['KYD', 'Cayman Islands dollar'],\n",
       "       ['KZT', 'Kazakhstani tenge'],\n",
       "       ['LAK', 'Lao kip'],\n",
       "       ['LBP', 'Lebanese pound'],\n",
       "       ['LKR', 'Sri Lankan rupee'],\n",
       "       ['LRD', 'Liberian dollar'],\n",
       "       ['LSL', 'Lesotho loti'],\n",
       "       ['LYD', 'Libyan dinar'],\n",
       "       ['MAD', 'Moroccan dirham'],\n",
       "       ['MDL', 'Moldovan leu'],\n",
       "       ['MGA', 'Malagasy ariary'],\n",
       "       ['MKD', 'Macedonian denar'],\n",
       "       ['MMK', 'Myanmar kyat'],\n",
       "       ['MNT', 'Mongolian tögrög'],\n",
       "       ['MOP', 'Macanese pataca'],\n",
       "       ['MRU', 'Mauritanian ouguiya'],\n",
       "       ['MUR', 'Mauritian rupee'],\n",
       "       ['MVR', 'Maldivian rufiyaa'],\n",
       "       ['MWK', 'Malawian kwacha'],\n",
       "       ['MXN', 'Mexican peso'],\n",
       "       ['MXV', 'Mexican Unidad de Inversion\\xa0(UDI) (funds code)'],\n",
       "       ['MYR', 'Malaysian ringgit'],\n",
       "       ['MZN', 'Mozambican metical'],\n",
       "       ['NAD', 'Namibian dollar'],\n",
       "       ['NGN', 'Nigerian naira'],\n",
       "       ['NIO', 'Nicaraguan córdoba'],\n",
       "       ['NOK', 'Norwegian krone'],\n",
       "       ['NPR', 'Nepalese rupee'],\n",
       "       ['NZD', 'New Zealand dollar'],\n",
       "       ['OMR', 'Omani rial'],\n",
       "       ['PAB', 'Panamanian balboa'],\n",
       "       ['PEN', 'Peruvian sol'],\n",
       "       ['PGK', 'Papua New Guinean kina'],\n",
       "       ['PHP', 'Philippine peso[10]'],\n",
       "       ['PKR', 'Pakistani rupee'],\n",
       "       ['PLN', 'Polish złoty'],\n",
       "       ['PYG', 'Paraguayan guaraní'],\n",
       "       ['QAR', 'Qatari riyal'],\n",
       "       ['RON', 'Romanian leu'],\n",
       "       ['RSD', 'Serbian dinar'],\n",
       "       ['CNY', 'Renminbi[11]'],\n",
       "       ['RUB', 'Russian ruble'],\n",
       "       ['RWF', 'Rwandan franc'],\n",
       "       ['SAR', 'Saudi riyal'],\n",
       "       ['SBD', 'Solomon Islands dollar'],\n",
       "       ['SCR', 'Seychelles rupee'],\n",
       "       ['SDG', 'Sudanese pound'],\n",
       "       ['SEK', 'Swedish krona\\xa0(plural: kronor)'],\n",
       "       ['SGD', 'Singapore dollar'],\n",
       "       ['SHP', 'Saint Helena pound'],\n",
       "       ['SLE', 'Sierra Leonean leone\\xa0(new leone)[12][13][14]'],\n",
       "       ['SLL', 'Sierra Leonean leone\\xa0(old leone)[12][13][14][15]'],\n",
       "       ['SOS', 'Somali shilling'],\n",
       "       ['SRD', 'Surinamese dollar'],\n",
       "       ['SSP', 'South Sudanese pound'],\n",
       "       ['STN', 'São Tomé and Príncipe dobra'],\n",
       "       ['SVC', 'Salvadoran colón'],\n",
       "       ['SYP', 'Syrian pound'],\n",
       "       ['SZL', 'Swazi lilangeni'],\n",
       "       ['THB', 'Thai baht'],\n",
       "       ['TJS', 'Tajikistani somoni'],\n",
       "       ['TMT', 'Turkmenistan manat'],\n",
       "       ['TND', 'Tunisian dinar'],\n",
       "       ['TOP', 'Tongan paʻanga'],\n",
       "       ['TRY', 'Turkish lira'],\n",
       "       ['TTD', 'Trinidad and Tobago dollar'],\n",
       "       ['TWD', 'New Taiwan dollar'],\n",
       "       ['TZS', 'Tanzanian shilling'],\n",
       "       ['UAH', 'Ukrainian hryvnia'],\n",
       "       ['UGX', 'Ugandan shilling'],\n",
       "       ['USD', 'United States dollar'],\n",
       "       ['USN', 'United States dollar (next day) (funds code)'],\n",
       "       ['UYI',\n",
       "        'Uruguay Peso en Unidades Indexadas (URUIURUI) (funds code)'],\n",
       "       ['UYU', 'Uruguayan peso'],\n",
       "       ['UYW', 'Unidad previsional[17]'],\n",
       "       ['UZS', 'Uzbekistan sum'],\n",
       "       ['VED', 'Venezuelan digital bolívar[18]'],\n",
       "       ['VES', 'Venezuelan sovereign bolívar[10]'],\n",
       "       ['VND', 'Vietnamese đồng'],\n",
       "       ['VUV', 'Vanuatu vatu'],\n",
       "       ['WST', 'Samoan tala'],\n",
       "       ['XAF', 'CFA franc BEAC'],\n",
       "       ['XAG', 'Silver\\xa0(one\\xa0troy ounce)'],\n",
       "       ['XAU', 'Gold\\xa0(one\\xa0troy ounce)'],\n",
       "       ['XBA', 'European Composite Unit\\xa0(EURCO) (bond market unit)'],\n",
       "       ['XBB', 'European Monetary Unit\\xa0(E.M.U.-6) (bond market unit)'],\n",
       "       ['XBC',\n",
       "        'European Unit of Account 9\\xa0(E.U.A.-9) (bond market unit)'],\n",
       "       ['XBD',\n",
       "        'European Unit of Account 17\\xa0(E.U.A.-17) (bond market unit)'],\n",
       "       ['XCD', 'East Caribbean dollar'],\n",
       "       ['XDR', 'Special drawing rights'],\n",
       "       ['XOF', 'CFA franc BCEAO'],\n",
       "       ['XPD', 'Palladium\\xa0(one\\xa0troy ounce)'],\n",
       "       ['XPF', 'CFP franc\\xa0(franc Pacifique)'],\n",
       "       ['XPT', 'Platinum\\xa0(one\\xa0troy ounce)'],\n",
       "       ['XSU', 'SUCRE'],\n",
       "       ['XTS', 'Code reserved for testing'],\n",
       "       ['XUA', 'ADB Unit of Account'],\n",
       "       ['XXX', 'No currency'],\n",
       "       ['YER', 'Yemeni rial'],\n",
       "       ['ZAR', 'South African rand'],\n",
       "       ['ZMW', 'Zambian kwacha'],\n",
       "       ['ZWL', 'Zimbabwean dollar\\xa0(fifth)[g]']], dtype=object)"
      ]
     },
     "execution_count": 94,
     "metadata": {},
     "output_type": "execute_result"
    }
   ],
   "source": [
    "df.values"
   ]
  },
  {
   "cell_type": "code",
   "execution_count": null,
   "id": "9ca5d568",
   "metadata": {},
   "outputs": [],
   "source": []
  }
 ],
 "metadata": {
  "kernelspec": {
   "display_name": "Python 3 (ipykernel)",
   "language": "python",
   "name": "python3"
  },
  "language_info": {
   "codemirror_mode": {
    "name": "ipython",
    "version": 3
   },
   "file_extension": ".py",
   "mimetype": "text/x-python",
   "name": "python",
   "nbconvert_exporter": "python",
   "pygments_lexer": "ipython3",
   "version": "3.11.4"
  }
 },
 "nbformat": 4,
 "nbformat_minor": 5
}
