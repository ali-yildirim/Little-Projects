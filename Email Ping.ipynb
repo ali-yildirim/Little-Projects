{
 "cells": [
  {
   "cell_type": "code",
   "execution_count": null,
   "id": "3c76abb6",
   "metadata": {},
   "outputs": [],
   "source": [
    "import requests as req\n",
    "from bs4 import BeautifulSoup\n",
    "import time\n",
    "from random import randint\n",
    "\n",
    "\n",
    "def test_mail_format(test_format):\n",
    "    session = req.session()\n",
    "    session.get(\"https://tools.emailhippo.com/\",\n",
    "                headers={\"user-agent\": \"AppleWebKit/537.36 (KHTML, like Gecko) Chrome/100.0.4896.60 Safari/537.36\"})\n",
    "    time.sleep(randint(2, 5))\n",
    "    resp = session.post(\"https://www.verifyemailaddress.org/\",\n",
    "                        data={\"email\": test_format},\n",
    "                        headers={\"content-length\": str(len(test_format)),\n",
    "                                 \"content-type\": \"application/x-www-form-urlencoded\",\n",
    "                                 \"accept\": \"text/html,application/xhtml+xml,application/xml;q=0.9,image/avif,image/webp,image/apng,/;q=0.8,application/signed-exchange;v=b3;q=0.9\",\n",
    "                                 \"cache-control\": \"max-age=0\",\n",
    "                                 \"origin\": \"https://www.verifyemailaddress.org/\",\n",
    "                                 \"referer\": \"https://www.verifyemailaddress.org/\",\n",
    "                                 \"upgrade-insecure-requests\": \"1\"})\n",
    "    soup = BeautifulSoup(resp.content, \"html.parser\")\n",
    "    results = soup.select(\"#result li\")\n",
    "    print(test_format, results[2][\"class\"])\n",
    "    return results[2][\"class\"][0] == \"success\"\n",
    "\n",
    "\n",
    "def multi_test():\n",
    "    for mail in [\n",
    "        f\"{name}_{surname}@{domain}\",\n",
    "        f\"{name}.{surname}@{domain}\",\n",
    "        f\"{name}{surname}@{domain}\",\n",
    "        f\"{name}@{domain}\",\n",
    "        f\"{surname}@{domain}\",\n",
    "        f\"{name[0]}{surname}@{domain}\",\n",
    "        f\"{name}{surname[0]}@{domain}\",\n",
    "        f\"{surname}{name[0]}@{domain}\",\n",
    "        f\"{name}_{surname[0]}@{domain}\",\n",
    "        f\"{surname}_{name[0]}@{domain}\",\n",
    "        f\"{surname}.{name[0]}@{domain}\",\n",
    "        f\"{surname[0]}{name}@{domain}\",\n",
    "        f\"{surname}.{name}@{domain}\"\n",
    "    ]:\n",
    "        if test_mail_format(mail.lower()): break\n",
    "\n",
    "\n",
    "domain = \"thelaunchfactory.com\"\n",
    "name = \"Christina\"\n",
    "surname = \"Morris\"\n",
    "\n",
    "multi_test()\n",
    "# test_mail_format(\"nicholasstone@bluestonelane.com\")"
   ]
  }
 ],
 "metadata": {
  "kernelspec": {
   "display_name": "Python 3 (ipykernel)",
   "language": "python",
   "name": "python3"
  },
  "language_info": {
   "codemirror_mode": {
    "name": "ipython",
    "version": 3
   },
   "file_extension": ".py",
   "mimetype": "text/x-python",
   "name": "python",
   "nbconvert_exporter": "python",
   "pygments_lexer": "ipython3",
   "version": "3.9.12"
  }
 },
 "nbformat": 4,
 "nbformat_minor": 5
}
